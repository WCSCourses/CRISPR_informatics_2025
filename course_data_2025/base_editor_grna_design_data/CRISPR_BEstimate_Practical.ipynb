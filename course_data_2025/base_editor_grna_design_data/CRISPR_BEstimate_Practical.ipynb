{
  "cells": [
    {
      "cell_type": "markdown",
      "id": "2f8f89a9",
      "metadata": {
        "id": "2f8f89a9"
      },
      "source": [
        "\n",
        "# 🧬 CRISPR Base Editing Practical with BEstimate\n",
        "\n",
        "Welcome! This practical will walk you through:\n",
        "\n",
        "✅ Preparing your environment (in Colab)  \n",
        "\n",
        "✅ Preparing the input and running BEstimate\n",
        "\n",
        "✅ Interpreting the results\n",
        "\n",
        "✅ Library design  \n",
        "\n",
        "---\n"
      ]
    },
    {
      "cell_type": "markdown",
      "id": "4b841fd7",
      "metadata": {
        "id": "4b841fd7"
      },
      "source": [
        "\n",
        "## 1️⃣ Pre-Preparation (Run This Before the Practical)\n",
        "\n",
        "> **Important:** Run these two sections to install everything you will need for the training.\n"
      ]
    },
    {
      "cell_type": "code",
      "execution_count": null,
      "id": "8d047ec7",
      "metadata": {
        "id": "8d047ec7",
        "collapsed": true
      },
      "outputs": [],
      "source": [
        "import os\n",
        "\n",
        "# Install BEstimate directly from GitHub\n",
        "!git clone https://github.com/CansuDincer/BEstimate.git\n",
        "os.chdir(\"/content/BEstimate/\")\n"
      ]
    },
    {
      "cell_type": "code",
      "source": [
        "!pip3 install -r /content/BEstimate/requirements.txt"
      ],
      "metadata": {
        "id": "RRPiT6hbjLCw"
      },
      "id": "RRPiT6hbjLCw",
      "execution_count": null,
      "outputs": []
    },
    {
      "cell_type": "markdown",
      "source": [
        "**Please restart your session so the packages will be installed!**"
      ],
      "metadata": {
        "id": "JVQsENgmiIxk"
      },
      "id": "JVQsENgmiIxk"
    },
    {
      "cell_type": "markdown",
      "source": [
        "**Important:** Please download genome indices for off target analysis from [Figshare](https://figshare.com/s/b23f86418ae71de0a759). After you install BEstimate, you need to put offtargets folder inside BEstimate folder.\n",
        "\n",
        "> Downloading and indexing the genome in the practical session are infeasible. However you can use the code as below (x_genome.py) on your own in a linux environment"
      ],
      "metadata": {
        "id": "p22F6_0lWxqm"
      },
      "id": "p22F6_0lWxqm"
    },
    {
      "cell_type": "code",
      "source": [
        "#!python3 x_genome.py --pamseq NGG --assembly GRCh38 --ensembl_version 113"
      ],
      "metadata": {
        "id": "wykDux4jiO0m"
      },
      "id": "wykDux4jiO0m",
      "execution_count": null,
      "outputs": []
    },
    {
      "cell_type": "code",
      "source": [
        "import os, pandas"
      ],
      "metadata": {
        "id": "XnRTKHvrcBsL"
      },
      "id": "XnRTKHvrcBsL",
      "execution_count": 1,
      "outputs": []
    },
    {
      "cell_type": "code",
      "source": [
        "# Make an output folder inside content directory\n",
        "#os.mkdir(\"/content/output/\")\n",
        "\n",
        "# Change the path to inside BEstimate folder\n",
        "os.chdir(\"/content/BEstimate/BEstimate/\")"
      ],
      "metadata": {
        "id": "tMtAgF7Nb9Jx"
      },
      "id": "tMtAgF7Nb9Jx",
      "execution_count": 2,
      "outputs": []
    },
    {
      "cell_type": "markdown",
      "source": [
        "## 2️⃣ Designing gRNAs for Base Editors"
      ],
      "metadata": {
        "id": "EJCtrtN8pFeK"
      },
      "id": "EJCtrtN8pFeK"
    },
    {
      "cell_type": "markdown",
      "source": [
        "🧬 To find the most appropriate gRNA for our experiments, we should decide:\n",
        "\n",
        "1. Length of the protospacer and PAM sequences\n",
        "  - Typically the protospacer sequence is 20.\n",
        "  - PAM is more divergent however the most frequently used one is NGG or NGN\n",
        "2. The sequence interval of the activity window.\n",
        "  - Typically activity window reside between 4-8 or 3-9 nucleotides on the protospacer sequence.\n",
        "3. The editable nucleotides\n",
        "  - CBE or ABE\n",
        "  - For a novel base editor, you can specify any nucleotide change\n",
        "\n",
        "After the information related to Base Editors, you should also decide which gene is your interest:\n",
        "\n",
        "1. Hugo symbol of the gene\n",
        "2. (Optionally) Ensembl Transcript ID\n",
        "3. (Optionally) Uniprot ID\n",
        "4. Any variants you want to incorporate (HGVS structure)\n"
      ],
      "metadata": {
        "id": "37-_tOmoo_Hn"
      },
      "id": "37-_tOmoo_Hn"
    },
    {
      "cell_type": "markdown",
      "id": "20c0ef88",
      "metadata": {
        "id": "20c0ef88"
      },
      "source": [
        "\n",
        "##3️⃣ Running BEstimate on Example Genes\n",
        "\n",
        "Let's design base editor guides for *SRY* as practice.\n"
      ]
    },
    {
      "cell_type": "markdown",
      "source": [
        "### **Mutagenesis on *SRY* gene**"
      ],
      "metadata": {
        "id": "kotm4Xftsl_w"
      },
      "id": "kotm4Xftsl_w"
    },
    {
      "cell_type": "code",
      "execution_count": null,
      "id": "725d7549",
      "metadata": {
        "id": "725d7549"
      },
      "outputs": [],
      "source": [
        "# Run BEstimate with SRY gene for ABE\n",
        "!python3 BEstimate.py -gene SRY -assembly GRCh38 -pamseq NGG -pamwin 21-23 -actwin 4-8 -protolen 20 -edit A -edit_to G -vep -o /content/output/ -ofile SRY_ABE_NGG\n"
      ]
    },
    {
      "cell_type": "code",
      "source": [
        "# Run BEstimate with SRY gene for CBE\n",
        "!python3 BEstimate.py -gene SRY -assembly GRCh38 -pamseq NGG -pamwin 21-23 -actwin 4-8 -protolen 20 -edit C -edit_to T -vep -o /content/output/ -ofile SRY_CBE_NGG\n",
        "\n",
        "# If you want off targets\n",
        "#!python3 BEstimate.py -gene SRY -assembly GRCh38 -pamseq NGG -pamwin 21-23 -actwin 4-8 -protolen 20 -edit C -edit_to T -vep -o /content/output/ -ofile SRY_CBE_NGG -ot -ot_path /content/BEstimate/offtargets/"
      ],
      "metadata": {
        "id": "yJgGJY6eqEkZ"
      },
      "id": "yJgGJY6eqEkZ",
      "execution_count": null,
      "outputs": []
    },
    {
      "cell_type": "markdown",
      "source": [
        "### **Reverting sickle-cel disease associated variant**"
      ],
      "metadata": {
        "id": "3J8aHR9tssXD"
      },
      "id": "3J8aHR9tssXD"
    },
    {
      "cell_type": "markdown",
      "source": [
        "Sickle cell disease - mutation β-globin gene (*HBB*): g.5227002A>T in GRCh38, p.Glu7Val"
      ],
      "metadata": {
        "id": "Y02QtvFztR50"
      },
      "id": "Y02QtvFztR50"
    },
    {
      "cell_type": "code",
      "source": [
        "# Generate a mutation file\n",
        "f = open(\"/content/sickle_cell_variant.txt\", \"w\")\n",
        "f.writelines(\"11:g.5227002A>T\")\n",
        "f.close()"
      ],
      "metadata": {
        "id": "C95d-ZiptiRO"
      },
      "id": "C95d-ZiptiRO",
      "execution_count": 40,
      "outputs": []
    },
    {
      "cell_type": "code",
      "source": [
        "# Run BEstimate with example input\n",
        "!python3 BEstimate.py -gene HBB -assembly GRCh38 -transcript ENST00000335295 -mutation_file /content/sickle_cell_variant.txt -pamseq NGN -pamwin 21-23 -actwin 3-9 -protolen 20 -edit A -edit_to G -o /content/output/ -ofile HBB_variant_specific_ABE_NGN\n"
      ],
      "metadata": {
        "id": "-6ziVdEssypM"
      },
      "id": "-6ziVdEssypM",
      "execution_count": null,
      "outputs": []
    },
    {
      "cell_type": "markdown",
      "id": "2b755f1b",
      "metadata": {
        "id": "2b755f1b"
      },
      "source": [
        "\n",
        "## 4️⃣ Exploring BEstimate Outputs and Interpreting Results\n",
        "\n",
        "Your results are saved in the `/content/output/` folder.\n",
        "\n",
        "To check what was generated, run:\n"
      ]
    },
    {
      "cell_type": "code",
      "execution_count": null,
      "id": "7040c61b",
      "metadata": {
        "id": "7040c61b"
      },
      "outputs": [],
      "source": [
        "# List results\n",
        "!ls -lh /content/output/"
      ]
    },
    {
      "cell_type": "markdown",
      "id": "934b5384",
      "metadata": {
        "id": "934b5384"
      },
      "source": [
        "\n",
        "**What to look for:**\n",
        "\n",
        "- Summary `.csv` tables listing guides\n",
        "\n",
        "- Editable nucleotides with annotations of predicted edits\n",
        "\n",
        "\n",
        "You can download these files or open them directly in Colab for inspection.\n"
      ]
    },
    {
      "cell_type": "markdown",
      "source": [
        "### SRY mutagenesis results"
      ],
      "metadata": {
        "id": "PpI6itIMNF10"
      },
      "id": "PpI6itIMNF10"
    },
    {
      "cell_type": "markdown",
      "source": [
        "**Let's start with the *edit table*, including gRNAs and their editable nucleotides and sequence information**"
      ],
      "metadata": {
        "id": "ql0w6YIkfJxO"
      },
      "id": "ql0w6YIkfJxO"
    },
    {
      "cell_type": "code",
      "source": [
        "edit_df = pandas.read_csv(\"/content/output/SRY_ABE_NGG_edit_df.csv\")\n",
        "edit_df[:5]"
      ],
      "metadata": {
        "id": "P7CcwpLIfRzX"
      },
      "id": "P7CcwpLIfRzX",
      "execution_count": null,
      "outputs": []
    },
    {
      "cell_type": "code",
      "source": [
        "# Check the information with edit file\n",
        "edit_df.columns"
      ],
      "metadata": {
        "id": "Sb09cs_BfR1i"
      },
      "id": "Sb09cs_BfR1i",
      "execution_count": null,
      "outputs": []
    },
    {
      "cell_type": "code",
      "source": [
        "# The number of editable gRNAs\n",
        "len(edit_df.CRISPR_PAM_Sequence.unique())"
      ],
      "metadata": {
        "id": "DssJQXHvfR3j"
      },
      "id": "DssJQXHvfR3j",
      "execution_count": null,
      "outputs": []
    },
    {
      "cell_type": "code",
      "source": [
        "# Number of gRNAs within the coding sequence\n",
        "len(edit_df[edit_df.guide_in_CDS].CRISPR_PAM_Sequence.unique())"
      ],
      "metadata": {
        "id": "7t3zxxtofb4d"
      },
      "id": "7t3zxxtofb4d",
      "execution_count": null,
      "outputs": []
    },
    {
      "cell_type": "code",
      "source": [
        "# Number of gRNAs with editable nucleotide within the coding sequence\n",
        "len(edit_df[edit_df.Edit_in_CDS].CRISPR_PAM_Sequence.unique())"
      ],
      "metadata": {
        "id": "hA8DsQCvfb6c"
      },
      "id": "hA8DsQCvfb6c",
      "execution_count": null,
      "outputs": []
    },
    {
      "cell_type": "code",
      "source": [
        "# Number of gRNAs with editable nucleotide within the coding sequence w/out polyT\n",
        "len(edit_df[(edit_df.Edit_in_CDS) & (~edit_df.Poly_T)].CRISPR_PAM_Sequence.unique())"
      ],
      "metadata": {
        "id": "EH9Aza01fb9B"
      },
      "id": "EH9Aza01fb9B",
      "execution_count": null,
      "outputs": []
    },
    {
      "cell_type": "markdown",
      "source": [
        "**Let's continue with the *protein table*, including VEP, Uniprot and Interactome Insider annotations**"
      ],
      "metadata": {
        "id": "V1EAmHNmfwRz"
      },
      "id": "V1EAmHNmfwRz"
    },
    {
      "cell_type": "code",
      "source": [
        "protein_df = pandas.read_csv(\"/content/output/SRY_ABE_NGG_protein_df.csv\")\n",
        "protein_df[:5]"
      ],
      "metadata": {
        "id": "4VfMQhHwexUF"
      },
      "id": "4VfMQhHwexUF",
      "execution_count": null,
      "outputs": []
    },
    {
      "cell_type": "code",
      "source": [
        "# Check the information with protein file\n",
        "protein_df.columns"
      ],
      "metadata": {
        "id": "MOSTOnWhfu7M"
      },
      "id": "MOSTOnWhfu7M",
      "execution_count": null,
      "outputs": []
    },
    {
      "cell_type": "markdown",
      "source": [
        "**!!!Since there can be several editable nucleotide, multiple edits on the sequence with a gRNA is possible.**"
      ],
      "metadata": {
        "id": "LnvRuk2wgF78"
      },
      "id": "LnvRuk2wgF78"
    },
    {
      "cell_type": "code",
      "source": [
        "# The most severe consequences from the *SRY* gene targteing gRNAs\n",
        "protein_df.most_severe_consequence.unique()"
      ],
      "metadata": {
        "id": "djk5-lN8fEeX"
      },
      "id": "djk5-lN8fEeX",
      "execution_count": null,
      "outputs": []
    },
    {
      "cell_type": "code",
      "source": [
        "# Protein positions of the potential edits\n",
        "protein_df.Protein_Position.unique()"
      ],
      "metadata": {
        "id": "fyVxNpZ4gItV"
      },
      "id": "fyVxNpZ4gItV",
      "execution_count": null,
      "outputs": []
    },
    {
      "cell_type": "code",
      "source": [
        "# Targeted functional domains\n",
        "protein_df.curated_Domain.unique()"
      ],
      "metadata": {
        "id": "NJxPYco3gIvZ"
      },
      "id": "NJxPYco3gIvZ",
      "execution_count": null,
      "outputs": []
    },
    {
      "cell_type": "code",
      "source": [
        "# Whether any gRNAs with clinical consequences\n",
        "protein_df[~pandas.isna(protein_df.is_clinical) & (protein_df.is_clinical)][[\n",
        "    'Hugo_Symbol',  'gRNA_Target_Sequence', 'Edit_Location', 'most_severe_consequence', 'Protein_Position', 'Edited_AA','New_AA', 'clinical_id']]"
      ],
      "metadata": {
        "id": "ALS_JnXsgkuJ"
      },
      "id": "ALS_JnXsgkuJ",
      "execution_count": null,
      "outputs": []
    },
    {
      "cell_type": "code",
      "source": [
        "# Whether any gRNAs with clinical consequences\n",
        "protein_df[pandas.isna(protein_df.is_clinical)][[\n",
        "    'Hugo_Symbol', 'Direction', 'gRNA_Target_Sequence', 'Edit_Location', 'most_severe_consequence', 'Protein_Position', 'Edited_AA','New_AA', 'clinical_id']]"
      ],
      "metadata": {
        "id": "lZP2kVBJs8ic"
      },
      "id": "lZP2kVBJs8ic",
      "execution_count": null,
      "outputs": []
    },
    {
      "cell_type": "code",
      "source": [
        "protein_df[protein_df.most_severe_consequence == \"missense_variant\"][[\n",
        "    'Hugo_Symbol', 'gRNA_Target_Sequence', 'most_severe_consequence', 'Protein_Position','Protein_Change','curated_Domain']]"
      ],
      "metadata": {
        "id": "YTMlWfbEgkwi"
      },
      "id": "YTMlWfbEgkwi",
      "execution_count": null,
      "outputs": []
    },
    {
      "cell_type": "code",
      "source": [
        "# When you run BEstimate with off targets\n",
        "grna_df = pandas.read_csv(\"/content/output/SRY_ABE_NGG_ot_annotated_df.csv\",)\n",
        "grna_df[:5]"
      ],
      "metadata": {
        "id": "_wNKgtQBgk0O"
      },
      "id": "_wNKgtQBgk0O",
      "execution_count": null,
      "outputs": []
    },
    {
      "cell_type": "code",
      "source": [
        "# Find gRNAs without any off targets\n",
        "grna_df[(grna_df.exact == 1) & (grna_df.mm1 == 0) & (grna_df.mm2 == 0) & (grna_df.mm3 == 0)]"
      ],
      "metadata": {
        "id": "IKo0EdfWofgx"
      },
      "id": "IKo0EdfWofgx",
      "execution_count": null,
      "outputs": []
    },
    {
      "cell_type": "markdown",
      "source": [
        "### Sickle cell reversion results"
      ],
      "metadata": {
        "id": "0cb-x4_WMQdB"
      },
      "id": "0cb-x4_WMQdB"
    },
    {
      "cell_type": "code",
      "source": [
        "hbb_mut_df = pandas.read_csv(\"/content/output/HBB_variant_specific_ABE_NGN_edit_df.csv\", index_col=0)\n",
        "hbb_mut_df[:5]"
      ],
      "metadata": {
        "id": "w1_BTfivMVIi"
      },
      "id": "w1_BTfivMVIi",
      "execution_count": null,
      "outputs": []
    },
    {
      "cell_type": "code",
      "source": [
        "# Find the gRNA changing the variation\n",
        "hbb_mut_df[hbb_mut_df.guide_change_mutation]"
      ],
      "metadata": {
        "id": "z0El5MhHsyre"
      },
      "id": "z0El5MhHsyre",
      "execution_count": null,
      "outputs": []
    },
    {
      "cell_type": "markdown",
      "source": [
        "**Important:** WT codon is GAG and the mutant one is GTG\n",
        "\n",
        "Mutation is on 5227002 and mutant sequence between 5227001-5227003 is CAC --> ABE --> CGC (+1 strand)\n",
        "GCG --> Ala --> naturally occurring, non-sickling variant hemoglobin \"Makassar\" (HbG)"
      ],
      "metadata": {
        "id": "apuL0vGkVjfs"
      },
      "id": "apuL0vGkVjfs"
    },
    {
      "cell_type": "markdown",
      "source": [
        "### **Exercises**"
      ],
      "metadata": {
        "id": "Qn85L_qkI5Kn"
      },
      "id": "Qn85L_qkI5Kn"
    },
    {
      "cell_type": "markdown",
      "source": [
        "We can manipulate more sequences using both ABE and CBE. Could you please find all the positions that we can edit with ABE and CBE together? Also, how many nucleotides that we can edit with exclusively with ABE and CBE, and using both of them?"
      ],
      "metadata": {
        "id": "xQHVwdb9I89C"
      },
      "id": "xQHVwdb9I89C"
    },
    {
      "cell_type": "code",
      "source": [],
      "metadata": {
        "id": "eJHCiOWFI8zX"
      },
      "id": "eJHCiOWFI8zX",
      "execution_count": null,
      "outputs": []
    },
    {
      "cell_type": "markdown",
      "source": [
        "Due to the redundancy in the codons, different nucleotide changes can make same changes in protein sequences. Could you please find the same metric in amino acid changes rather than nucleotide changes?"
      ],
      "metadata": {
        "id": "1D9hLPyyJnv1"
      },
      "id": "1D9hLPyyJnv1"
    },
    {
      "cell_type": "code",
      "source": [],
      "metadata": {
        "id": "1UXrvm_UJnhJ"
      },
      "id": "1UXrvm_UJnhJ",
      "execution_count": null,
      "outputs": []
    },
    {
      "cell_type": "markdown",
      "source": [
        "Are there multiple valid gRNAs? How would you prioritise them? Please examplify with *SRY* gene?"
      ],
      "metadata": {
        "id": "DdooJ3gEKFbi"
      },
      "id": "DdooJ3gEKFbi"
    },
    {
      "cell_type": "code",
      "source": [],
      "metadata": {
        "id": "gtvHPq91J0cC"
      },
      "id": "gtvHPq91J0cC",
      "execution_count": null,
      "outputs": []
    },
    {
      "cell_type": "markdown",
      "source": [
        "### Key points to review in your output tables"
      ],
      "metadata": {
        "id": "qzhEu5eMV0QS"
      },
      "id": "qzhEu5eMV0QS"
    },
    {
      "cell_type": "markdown",
      "id": "61c123b1",
      "metadata": {
        "id": "61c123b1"
      },
      "source": [
        "\n",
        "\n",
        "- **Base Change**: Given your experiments of interest, you may highlight gRNA targeting specific domains, post translational modification sites, splice sites or clinically important locations.\n",
        "  - gRNAs that target coding regions resulting in functional consequences like amino acid changes. You can eliminate gRNAs only generating synonymous alterations.\n",
        "  - gRNAs can also edit non-coding regions, you may want to work with a regulatory region, such as promoters, splice sites. (*If unintended, avoid gRNAs that disrupt known splice sites unless this is the intended effect.*)\n",
        "  - gRNAs can replicate or revert known pathogenic SNPs, you may want to investigate disease models or corrections.\n",
        "  - gRNAs targeting highly conserved sequences tend to have more severe functional consequences. You can check the functional consequences and select gRNAs of your interest.\n",
        "\n",
        "- **Off-targets**: It is a good practice to choose gRNAs with minimal off-target effects.\n",
        "\n",
        "Note: On-Target Efficiency: You may want to select gRNAs with a high on-target efficiency which can you obtain through BE-Hive. (*It is not provided by BEstimate*)\n"
      ]
    },
    {
      "cell_type": "markdown",
      "source": [
        "## 5️⃣ Controls in library design\n"
      ],
      "metadata": {
        "id": "ggOvVhDhnUja"
      },
      "id": "ggOvVhDhnUja"
    },
    {
      "cell_type": "markdown",
      "source": [
        "When generating a gRNA library for base editing, incorporating proper controls is essential for ensuring the reliability and interpretability of your experimental results. The controls help validate the functional outcomes of your gRNAs.\n",
        "\n",
        "1. Positive Controls which help confirm that your base editing system is working efficiently and that the experimental conditions are optimal.\n",
        "\n",
        "  - gRNAs targeting essential genes that are essential for cell viability (such as housekeeping genes) where editing should have measurable phenotypic effects like cell death or reduced growth.\n",
        "\n",
        "2. Negative Controls which are critical to assess the background levels of editing and off-target effects. They ensure that observed changes are due to base editing rather than random or non-specific effects.\n",
        "\n",
        "  - Non-targeting gRNAs help establish the baseline for off-target activity and general effects of transfection or editing. These controls are typically random sequences with no homology to the genome but are designed to resemble real gRNAs in structure.\n",
        "\n",
        "  - gRNAs targeting non-essential genes that are expected to result in no significant phenotypic effect from the base editing.\n",
        "\n"
      ],
      "metadata": {
        "id": "ZVtK60bznWnA"
      },
      "id": "ZVtK60bznWnA"
    },
    {
      "cell_type": "markdown",
      "id": "3c50a40e",
      "metadata": {
        "id": "3c50a40e"
      },
      "source": [
        "\n",
        "## 🛠️ Troubleshooting Tips\n",
        "\n",
        "❗ **No module named BEstimate** → Rerun the installation cell at the top and do not forget to restart the session! After you restart your session, you should not run it again.\n",
        "\n",
        "\n",
        "❗ **Permission errors** → Make sure you are running in a writable Colab notebook.  "
      ]
    },
    {
      "cell_type": "markdown",
      "id": "cff10b7f",
      "metadata": {
        "id": "cff10b7f"
      },
      "source": [
        "\n",
        "## 🎉 Wrap-up\n",
        "\n",
        "With this practical course, you have now:\n",
        "\n",
        "✅ Set up your environment\n",
        "\n",
        "✅ Designed base editor gRNAs with BEstimate\n",
        "\n",
        "✅ Learned how to interpret your results\n",
        "\n",
        "✅ Learned things to consider while selecting your gRNAs and designing your library\n",
        "\n",
        "\n",
        "\n",
        "**Next steps:** You can try using your own genes or variants as input!\n",
        "\n",
        "\n",
        "\n",
        "Questions? Ask during the live session or contact me at cd7@sanger.ac.uk\n"
      ]
    }
  ],
  "metadata": {
    "colab": {
      "provenance": [],
      "toc_visible": true
    },
    "language_info": {
      "name": "python"
    },
    "kernelspec": {
      "name": "python3",
      "display_name": "Python 3"
    }
  },
  "nbformat": 4,
  "nbformat_minor": 5
}
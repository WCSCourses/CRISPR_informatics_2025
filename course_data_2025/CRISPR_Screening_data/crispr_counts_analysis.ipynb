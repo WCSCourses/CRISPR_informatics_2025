{
  "cells": [
    {
      "cell_type": "markdown",
      "metadata": {
        "id": "view-in-github",
        "colab_type": "text"
      },
      "source": [
        "<a href=\"https://colab.research.google.com/github/WCSCourses/CRISPR_informatics_2025/blob/2025_updates/course_data_2025/CRISPR_Screening_data/crispr_counts_analysis.ipynb\" target=\"_parent\"><img src=\"https://colab.research.google.com/assets/colab-badge.svg\" alt=\"Open In Colab\"/></a>"
      ]
    },
    {
      "cell_type": "markdown",
      "id": "79526ff3-bd9b-4732-ba7e-75d39b9ea8f7",
      "metadata": {
        "id": "79526ff3-bd9b-4732-ba7e-75d39b9ea8f7"
      },
      "source": [
        "# High-content CRISPR screens: how to survey the genome\n"
      ]
    },
    {
      "cell_type": "markdown",
      "source": [
        "\n",
        "-------\n",
        "# Table of contents\n",
        "<a name=\"toc\"></a>\n",
        "\n",
        "1. [Introduction and aims](#intro)\n",
        "2. [Today's exercise](#exercise)\n",
        "3. [Step 1: Installing software and importing data for our session](#step1)\n",
        "4. [Step 2: Exploring a \"raw\" counts dataset](#step2)\n",
        "5. [Step 3: Identifying significantly perturbed genes in the screen](#step3)\n",
        "6. [Step 4: Validating the results of a CRISPR screen](#step4)\n",
        "7. [Step 5: Alternative CRISPR analysis tools](#step5)\n",
        "8. [Step 6: Biolocial considerations in screen interpretation](#step6)\n",
        "9. [Summary](#summary)\n",
        "10. [References](#references)\n",
        "\n",
        "-----"
      ],
      "metadata": {
        "id": "t9UVSG6aGvyJ"
      },
      "id": "t9UVSG6aGvyJ"
    },
    {
      "cell_type": "markdown",
      "source": [
        "<a name=\"intro\"></a>\n",
        "# Introduction and aims\n",
        "\n",
        "\n",
        "\n",
        "The aim of this practical class is to introduce you to some of the concepts and tools involved in the analysis of pooled CRISPR screens. We will begin by taking a set of pre-generated CRISPR counts data and exploring it in R. Then, we will process the dataset to identify essential genes in a cell line using a two popular tools: MAGeCK and BAGEL2. Finally, we will explore some alternative tools for CRISPR screen analysis and discuss some of the pitfalls that you might need to be wary of in these kinds of experiments.\n",
        "\n",
        "----\n",
        "\n",
        "### Background\n",
        "<a name=\"background\"></a>\n",
        "\n",
        "Throughout this course, you will hopefully have seen how CRISPR systems can be applied as powerful tools for cellular manipulation. Depending on how they are configured, CRISPR systems can be used to:\n",
        "\n",
        "- Introduce double-stranded breaks at a genomic locus\n",
        "- Introduce sequence modifications to a locus\n",
        "- Recruit functional domains to that locus\n",
        "- Modulate gene expression (activation with CRISPRa and inhibition with CRISPRi)\n",
        "\n",
        "\n",
        "CRISPR screens attempt to perform these manipulations at scale: interrogating thousands of genomic features (genes, promoters, enhancers *etc.*) simultaneously. **Pooled screens** enable us to achieve this within a single population of cells to effectively identify candidate genes for drug development or better understand biological process.\n",
        "\n",
        "----\n",
        "### The CRISPR screening process\n",
        "\n",
        "The process of conducting a pooled CRISPR screen is illustrated below in Figure 1. Essentially, we aim to deliver a \"library\" of guide RNAs into a population of cells expressing Cas9 and observe the effects. It can be broken down into the following steps:\n",
        "\n",
        "🧬 **Design** 🧬\n",
        "\n",
        "First, we prepare a library of guide RNAs that target your sequences of interest. You might be able to order an off-the-shelf pre-designed library for this (popular libraries include Avana, Yusa v1.1, and TKOv3); you might have to design a library of your own. While we won't cover the custom gRNA library design process in detail here, I'd personally recommend looking at the [CRISPRverse](https://github.com/crisprVerse/Tutorials/tree/master) collection of R packages. They have several helpful tutorials that walk you through custom gRNA library design.\n",
        "\n",
        "📦 **Delivery** 📦\n",
        "\n",
        "You will now need to deliver your guide RNA library into your cells of interest. A popular means for doing this is to package your library into lentiviral vectors and then transduce your cells. If you aim for a low multiplicity of infection (MOI), you should be able to effectively introduce a single guide RNA into each cell in the population. This avoids the possibility of double cuts and\n",
        "\n",
        " 🥼 **Cell Culture and Phenotypic Selection** 🥼\n",
        "\n",
        "You can now subject your diversified cell population to some sort of selective pressure. This might be just survival in the presence of CRISPR-Cas9, survival in the presence of a drug, or the expression of a fluorescent reporter (measured with a flow cytometer). Typically, you would culture cells for multiple passages under selection to allow time for CRISPR-mediated genetic modifications and to amplify phenotypic effects.\n",
        "\n",
        "\n",
        "💻 **Genomic DNA Extraction and Sequencing** 💻\n",
        "\n",
        "Finally, you will need to amplify guide plasmid DNA from both your selected and control cell populations using PCR. If you perform high-throughput sequencing to quantify gRNA abundance, you can then compare guide RNA counts in a selected and control population of cells. This should reveal which guides (and by proxy which target sequences) are associated with the phenotype.\n",
        "\n",
        "----\n"
      ],
      "metadata": {
        "id": "o9GrCn4vGD-W"
      },
      "id": "o9GrCn4vGD-W"
    },
    {
      "cell_type": "markdown",
      "source": [
        "----\n",
        "**Figure 1. Process diagram for a CRISPR screen**\n",
        "\n",
        "![Figure 1. Process diagram for a CRISPR screen](https://github.com/WCSCourses/CRISPR_Informatics_2024/blob/jb63_screening_module/modules/crispr_screen_analysis/figures/CRISPR_screen_demo.jpg?raw=1)\n",
        "\n",
        "Taken from [Clark, Teleri et al.\n",
        "Trends in Biotechnology, Volume 42, Issue 8, 1017 - 1034](https://www.cell.com/trends/biotechnology/fulltext/S0167-7799(24)00036-2)\n",
        "\n",
        "-----\n",
        "\n",
        "Screens can be classified as:\n",
        "\n",
        "- **Knockout screens**: Identify essential genes or genes involved in specific phenotypes\n",
        "- **Activation screens**: Uncover genes that, when overexpressed, contribute to a phenotype\n",
        "- **Inhibition screens**: Reveal genes that, when repressed, affect a particular cellular process\n",
        "\n",
        "At the Wellcome Trust Sanger Institute we conduct large-scale CRISPR knockout screens of cancer cell lines in collaboration with the Broad Institute  for initiatives such as DepMap to better understand the genetic dependencies of cancer. [Feel free to look around at the results!](https://score.depmap.sanger.ac.uk/)\n",
        "\n",
        "**Figure 2. The Project Score portal**\n",
        "\n",
        "![Figure 2. Project score ](https://github.com/WCSCourses/CRISPR_Informatics_2024/blob/jb63_screening_module/modules/crispr_screen_analysis/figures/project_score.png?raw=1)\n",
        "\n",
        "----"
      ],
      "metadata": {
        "id": "VbMqdjcxHIwS"
      },
      "id": "VbMqdjcxHIwS"
    },
    {
      "cell_type": "markdown",
      "source": [
        "\n",
        "## Today's exercise\n",
        "## <a name=\"exercise\"></a>\n",
        "\n",
        "Today, we will explore the results of a simple CRISPR knockout screen designed to identify essential genes in the HAP1 cell line. HAP1 is a human myeloid leukemia cell line derivative that is notable for containing approximately 1 copy of each gene: it is near haploid ([Andersson et al., 1987](https://www.ncbi.nlm.nih.gov/pmc/articles/PMC10020200/#B2)). HAP1 has become particularly popular within the field of gene editing as it avoids some of the challenges associated with interpreting experiments in diploid cells, such as mixed penetrance of genome editing.\n",
        "\n",
        "\n",
        "**Figure 3. Karyotype of the HAP1 cell line**\n",
        "\n",
        "![Figure 3. HAP1 karyotype](https://github.com/WCSCourses/CRISPR_Informatics_2024/blob/jb63_screening_module/modules/crispr_screen_analysis/figures/HAP1_cell_karyotype.png?raw=1)\n",
        "\n",
        "https://commons.wikimedia.org/wiki/File:HAP1_cell_karotype.png\n",
        "\n",
        "\n",
        "\n",
        "\n",
        "**Experimental Design**\n",
        "\n",
        "The screen we will examine today is a straightforward experiment involving just four samples:\n",
        "\n",
        "- T0 Sample: A single \"pre-screen\" cell population sample. Collected before CRISPR-Cas9 cutting occurred (*serves as a baseline for guide RNA distribution measurements*).\n",
        "\n",
        "\n",
        "- T18 Samples: Three post-screen samples (A, B, and C). Collected 18 days after the screen began (*represents the cell populations after CRISPR-mediated gene knockout and selection*).\n",
        "\n",
        "To conduct the experiment, HAP1 cells were transfected with the [TKO_V3 library](https://www.addgene.org/pooled-library/moffat-crispr-knockout-tkov3/) which contains more than 70,000 guides targeting >18,000 genes.\n",
        "\n",
        "**Data Analysis Approach**\n",
        "\n",
        "We will:\n",
        "- Evaluate the quality of HTS-derived samples based on gRNA count statistics ✅\n",
        "- Compare guide frequencies between T0 and T18 samples ✅\n",
        "- Use statistical methods to identify significantly depleted or enriched guides ✅\n",
        "- Map guides to their target genes to identify essential genes in HAP1 ✅"
      ],
      "metadata": {
        "id": "ngogKcEcGhOz"
      },
      "id": "ngogKcEcGhOz"
    },
    {
      "cell_type": "markdown",
      "source": [
        "----\n",
        "## <a name=\"step1\"></a>\n",
        "## Step 1: Installing software and importing data for our session\n",
        "\n",
        "\n",
        "\n",
        "In order to install some of the tools we will be using in the session, we will first have to add condacolab. Condacolab allows us to install software packages within the code cells of our Google Colab session with the `conda install` command."
      ],
      "metadata": {
        "id": "aBRBRjRfGSMW"
      },
      "id": "aBRBRjRfGSMW"
    },
    {
      "cell_type": "code",
      "execution_count": 2,
      "id": "gyPjFKWJv1mv",
      "metadata": {
        "id": "gyPjFKWJv1mv",
        "colab": {
          "base_uri": "https://localhost:8080/"
        },
        "outputId": "045a484b-ccf3-4948-badf-7b64f82252f7"
      },
      "outputs": [
        {
          "output_type": "stream",
          "name": "stdout",
          "text": [
            "⏬ Downloading https://github.com/jaimergp/miniforge/releases/download/24.11.2-1_colab/Miniforge3-colab-24.11.2-1_colab-Linux-x86_64.sh...\n",
            "📦 Installing...\n",
            "📌 Adjusting configuration...\n",
            "🩹 Patching environment...\n",
            "⏲ Done in 0:00:14\n",
            "🔁 Restarting kernel...\n"
          ]
        }
      ],
      "source": [
        "!pip install -q condacolab\n",
        "import condacolab\n",
        "condacolab.install()"
      ]
    },
    {
      "cell_type": "markdown",
      "id": "1D3OWCvuneql",
      "metadata": {
        "id": "1D3OWCvuneql"
      },
      "source": [
        "Next, we can download the datasets that we're going to use in the exercise. These are:\n",
        "\n",
        "1. A counts matrix, containing the results of our screen\n",
        "2. Two gene lists describing essential and non-essential genes that we will use later in the practical\n",
        "\n",
        "We download the data using the `wget` command, which can retrieve any files at a specified web address.\n",
        "\n",
        "\n"
      ]
    },
    {
      "cell_type": "code",
      "execution_count": 3,
      "id": "lMFlPAwEbYFB",
      "metadata": {
        "id": "lMFlPAwEbYFB",
        "colab": {
          "base_uri": "https://localhost:8080/"
        },
        "outputId": "4dae363f-e578-4307-8bf1-baf42901c50d"
      },
      "outputs": [
        {
          "output_type": "stream",
          "name": "stdout",
          "text": [
            "--2025-07-12 14:23:03--  https://raw.githubusercontent.com/WCSCourses/CRISPR_informatics_2025/refs/heads/2025_updates/course_data_2025/CRISPR_Screening_data/reads_hap1.txt\n",
            "Resolving raw.githubusercontent.com (raw.githubusercontent.com)... 185.199.108.133, 185.199.109.133, 185.199.110.133, ...\n",
            "Connecting to raw.githubusercontent.com (raw.githubusercontent.com)|185.199.108.133|:443... connected.\n",
            "HTTP request sent, awaiting response... 200 OK\n",
            "Length: 3649737 (3.5M) [text/plain]\n",
            "Saving to: ‘reads_hap1.txt’\n",
            "\n",
            "reads_hap1.txt      100%[===================>]   3.48M  --.-KB/s    in 0.03s   \n",
            "\n",
            "2025-07-12 14:23:03 (136 MB/s) - ‘reads_hap1.txt’ saved [3649737/3649737]\n",
            "\n",
            "--2025-07-12 14:23:03--  https://raw.githubusercontent.com/WCSCourses/CRISPR_informatics_2025/refs/heads/2025_updates/course_data_2025/CRISPR_Screening_data/CEGv2.txt\n",
            "Resolving raw.githubusercontent.com (raw.githubusercontent.com)... 185.199.108.133, 185.199.109.133, 185.199.110.133, ...\n",
            "Connecting to raw.githubusercontent.com (raw.githubusercontent.com)|185.199.108.133|:443... connected.\n",
            "HTTP request sent, awaiting response... 200 OK\n",
            "Length: 15088 (15K) [text/plain]\n",
            "Saving to: ‘CEGv2.txt’\n",
            "\n",
            "CEGv2.txt           100%[===================>]  14.73K  --.-KB/s    in 0s      \n",
            "\n",
            "2025-07-12 14:23:03 (83.8 MB/s) - ‘CEGv2.txt’ saved [15088/15088]\n",
            "\n",
            "--2025-07-12 14:23:03--  https://raw.githubusercontent.com/WCSCourses/CRISPR_informatics_2025/refs/heads/2025_updates/course_data_2025/CRISPR_Screening_data/NEGv1.txt\n",
            "Resolving raw.githubusercontent.com (raw.githubusercontent.com)... 185.199.108.133, 185.199.109.133, 185.199.110.133, ...\n",
            "Connecting to raw.githubusercontent.com (raw.githubusercontent.com)|185.199.108.133|:443... connected.\n",
            "HTTP request sent, awaiting response... 200 OK\n",
            "Length: 21712 (21K) [text/plain]\n",
            "Saving to: ‘NEGv1.txt’\n",
            "\n",
            "NEGv1.txt           100%[===================>]  21.20K  --.-KB/s    in 0s      \n",
            "\n",
            "2025-07-12 14:23:03 (58.8 MB/s) - ‘NEGv1.txt’ saved [21712/21712]\n",
            "\n"
          ]
        }
      ],
      "source": [
        "!wget https://raw.githubusercontent.com/WCSCourses/CRISPR_informatics_2025/refs/heads/2025_updates/course_data_2025/CRISPR_Screening_data/reads_hap1.txt\n",
        "!wget https://raw.githubusercontent.com/WCSCourses/CRISPR_informatics_2025/refs/heads/2025_updates/course_data_2025/CRISPR_Screening_data/CEGv2.txt\n",
        "!wget https://raw.githubusercontent.com/WCSCourses/CRISPR_informatics_2025/refs/heads/2025_updates/course_data_2025/CRISPR_Screening_data/NEGv1.txt"
      ]
    },
    {
      "cell_type": "markdown",
      "id": "QmsfAa0PDwqG",
      "metadata": {
        "id": "QmsfAa0PDwqG"
      },
      "source": [
        "Next, we will load an extension for the Google Colab notebook that allows us to execute R code within Colab notebook cells. This will enable us to perform our data analysis using R without leaving the Colab environment.\n",
        "To install and load the R magic for Colab, run the following code in a code cell:"
      ]
    },
    {
      "cell_type": "code",
      "execution_count": 6,
      "id": "tbUbWekNwA_D",
      "metadata": {
        "id": "tbUbWekNwA_D"
      },
      "outputs": [],
      "source": [
        "%load_ext rpy2.ipython"
      ]
    },
    {
      "cell_type": "markdown",
      "id": "VT0MrrqVN9VU",
      "metadata": {
        "id": "VT0MrrqVN9VU"
      },
      "source": [
        "This installs the rpy2 package, which provides a Python interface to R, and then loads the R magic commands for use in Colab.\n",
        "Now you can use R in your Colab notebook by starting a code cell with the %%R magic command. For example:\n",
        "\n"
      ]
    },
    {
      "cell_type": "code",
      "execution_count": 3,
      "id": "b078ebd7",
      "metadata": {
        "id": "b078ebd7",
        "colab": {
          "base_uri": "https://localhost:8080/"
        },
        "outputId": "f5969c79-1042-4bd4-af40-be364057416a"
      },
      "outputs": [
        {
          "output_type": "stream",
          "name": "stdout",
          "text": [
            "[1] \"Hello from R!\"\n"
          ]
        }
      ],
      "source": [
        "%%R\n",
        "# This is R code\n",
        "print(\"Hello from R!\")"
      ]
    },
    {
      "cell_type": "markdown",
      "id": "7ebdddc9",
      "metadata": {
        "id": "7ebdddc9"
      },
      "source": [
        "\n",
        "Now that we've set up the R magic for Colab, any cells that contain the %%R tag at the start will be executed within an R environment. This allows us to seamlessly switch between Python and R code within our notebook.\n",
        "\n",
        "*Note: Any lines of code that contain an ! at the start will be executed in bash (the default scripting language in a terminal).*\n",
        "\n",
        "\n",
        "Let's begin the exercise by loading a couple of R packages into our Colab session. For those newer to R, we'll be using the tidyverse meta-package: a set of tools that extend \"base\" R to make data-wrangling and exploration more enjoyable. The code also makes use of the |> pipe functionality in R, which simplifies multi-step data manipulation.\n",
        "*Note: Some of you might recognize |>'s progenitor – %>% – which was prevalent in older versions of R.*\n",
        "\n",
        "Here's how we can load the necessary packages:"
      ]
    },
    {
      "cell_type": "code",
      "execution_count": 1,
      "id": "0WBpOreTs0uY",
      "metadata": {
        "id": "0WBpOreTs0uY",
        "colab": {
          "base_uri": "https://localhost:8080/"
        },
        "outputId": "6ce738cc-25ac-4ea0-aaf0-f7fd0b7e2ba6"
      },
      "outputs": [
        {
          "output_type": "stream",
          "name": "stderr",
          "text": [
            "UsageError: Cell magic `%%R` not found.\n"
          ]
        }
      ],
      "source": [
        "%%R\n",
        "# Load our dependencies\n",
        "suppressMessages(install.packages(\"ggrepel\"))\n",
        "library(tidyverse)\n",
        "library(ggrepel)"
      ]
    },
    {
      "cell_type": "markdown",
      "id": "8facccea",
      "metadata": {
        "id": "8facccea"
      },
      "source": [
        "Here's how the |> pipe operator is going to let us to chain together multiple operations. It takes the output of one function and passes it to the next function. This can make our code more readable and intuitive, especially when performing several operations on a dataset.\n",
        "\n",
        "For example, instead of writing:\n",
        "`result <- function3(function2(function1(data)))`\n",
        "\n",
        "We can write\n",
        "```\n",
        "result <- data |>\n",
        "  function1() |>\n",
        "  function2() |>\n",
        "  function3()\n",
        "```"
      ]
    },
    {
      "cell_type": "markdown",
      "id": "0e93acbe",
      "metadata": {
        "id": "0e93acbe"
      },
      "source": [
        "-------\n",
        "<a name=\"step2\"></a>\n",
        "# Step 2: Exploring a \"raw\" CRISPR counts dataset\n",
        "\n",
        "We will begin from a point where we already have a CRISPR counts table generated. In your own experiments, you may have to generate this table for yourself. There are several tools for doing this (including MAGECK - which we will use later), but counts generation requires some large files and computational time that won't be practical in this session. Take a look at the MAGECK documentation if you'd like an intro for one way to do this [after the practical](https://sourceforge.net/p/mageck/wiki/usage/#count).\n",
        "\n",
        "**Reading counts into R**\n",
        "\n",
        "Let's read the counts file for our experiment into R and display the dataframe that this produces:"
      ]
    },
    {
      "cell_type": "code",
      "execution_count": null,
      "id": "1ozMoACLs6Kb",
      "metadata": {
        "id": "1ozMoACLs6Kb"
      },
      "outputs": [],
      "source": [
        "%%R\n",
        "input_file <- read_tsv(\"reads_hap1.txt\")\n",
        "input_file"
      ]
    },
    {
      "cell_type": "markdown",
      "id": "A9nxec8ARofY",
      "metadata": {
        "id": "A9nxec8ARofY"
      },
      "source": [
        "----\n",
        "\n",
        "**Anatomy of the dataset**\n",
        "\n",
        "The dataframe has several columns:\n",
        "- `SEQUENCE`: representing the CRISPR guide RNA sequences used in the screen\n",
        "- `GENE`: representing the genes targeted by each guide RNA\n",
        "- Several sample columns (`HAP1_T0`, `HAP1_T18A`, etc.): representing the count data for each sample in the experiment\n",
        "\n",
        "The `HAP1` in these sample names reflects the cell line we screened in the experiment, and the `T<X>` reflects the timepoint at which the sample was collected.\n",
        "\n",
        "### Questions to consider i)\n",
        "\n",
        "1. You might notice that there are multiple guide RNA sequences per gene. Why do you think this might be the case?\n",
        "\n",
        "2. In some cases, the sequence counts vary widely between the T18 A, B, and C replicates. Can you think of any explanations for this variability?\n",
        "\n",
        "Take a moment to think about these questions. We'll discuss them further as we progress through the analysis.\n",
        "\n",
        "**Reformatting the data**\n",
        "\n",
        "The dataframe we've read into R has several columns representing guide RNA counts. For downstream analysis in R, it will be helpful to \"wrangle\" our data into what's called a [tidy format](https://r4ds.had.co.nz/tidy-data.html). We will do that here, collapsing all of our HAP1 columns into one with a command called a `pivot`.\n",
        "\n",
        "Here's how we can reformat our data:\n"
      ]
    },
    {
      "cell_type": "code",
      "execution_count": null,
      "id": "nNX2Am1bNsCj",
      "metadata": {
        "id": "nNX2Am1bNsCj"
      },
      "outputs": [],
      "source": [
        "%%R\n",
        "guide_counts <- input_file |>\n",
        "                pivot_longer(cols = contains(\"HAP1\"),\n",
        "                             values_to = \"counts\",\n",
        "                             names_to = \"sample\")"
      ]
    },
    {
      "cell_type": "markdown",
      "id": "scRUvOP4VQnJ",
      "metadata": {
        "id": "scRUvOP4VQnJ"
      },
      "source": [
        "Now that we have reformatted our dataset into a tidy format, let's take a look at the first few lines of our new, easier-to-explore dataframe:\n",
        "\n",
        "\n"
      ]
    },
    {
      "cell_type": "code",
      "execution_count": null,
      "id": "IDaXAetJVNJt",
      "metadata": {
        "id": "IDaXAetJVNJt"
      },
      "outputs": [],
      "source": [
        "%%R\n",
        "head(guide_counts)"
      ]
    },
    {
      "cell_type": "markdown",
      "id": "2bcd08ce",
      "metadata": {
        "id": "2bcd08ce"
      },
      "source": [
        "**Exploring the dataset**\n",
        "\n",
        "We can visualise this reformatted dataset to better understand the distribution of guide counts in a sample.\n",
        "\n",
        "For a typical genome-wide CRISPR screen, we would hope that all guide sequences are observed in our sample (with counts > 0) and that there is sufficient sequencing depth (coverage) for each guide in the library to allow us to perform statistical tests with downstream tools. Let's check this now using a boxplot.\n",
        "\n",
        "A boxplot presents the dataset concisely, highlighting the following: the mean counts per guide in each sample, the upper and lower limits for the guide counts in each sample (represented by the boundaries of the boxes), and any guides with extremely high or low counts, which are flagged as dots."
      ]
    },
    {
      "cell_type": "code",
      "execution_count": null,
      "id": "8f2ea960-dd93-4310-8455-c6d402a4aa31",
      "metadata": {
        "id": "8f2ea960-dd93-4310-8455-c6d402a4aa31"
      },
      "outputs": [],
      "source": [
        "%%R\n",
        "\n",
        "ggplot(guide_counts, aes(x = sample, y=log2(counts+1))) +\n",
        "geom_boxplot(aes(fill = sample))"
      ]
    },
    {
      "cell_type": "markdown",
      "id": "VO8k1_ECO1xh",
      "metadata": {
        "id": "VO8k1_ECO1xh"
      },
      "source": [
        "We can also re-plot the distribution of counts for the different guides in the screen using a density plot. This plot should tell a similar story, but some of you might find it more intuitive.\n",
        "\n"
      ]
    },
    {
      "cell_type": "code",
      "execution_count": null,
      "id": "FqG7Qm9rVqnL",
      "metadata": {
        "id": "FqG7Qm9rVqnL"
      },
      "outputs": [],
      "source": [
        "%%R\n",
        "ggplot(guide_counts, aes(x=log2(counts+1))) +\n",
        "geom_density(aes(fill = sample), alpha = 0.4)"
      ]
    },
    {
      "cell_type": "markdown",
      "id": "jjawVyhUbqUb",
      "metadata": {
        "id": "jjawVyhUbqUb"
      },
      "source": [
        "### Questions to consider ii)\n",
        "- Notice that we have chosen to represent the counts for the guide RNAs on a log2(counts + 1) scale. Why do you think this might be?\n",
        "- What do you estimate the mean number of counts per guide RNA is in our samples?\n",
        "- Most protocols suggest that a mean of at least 200 counts per guide should be sufficient for conducting a CRISPR knockout screen. Do these samples meet that criterion?\n",
        "- How could you identify poor-quality or outlier samples in a dataset like this? Are you aware of any techniques for this?\n",
        "- If you had a library of 100,000 gRNAs and wanted a minimum of 500 cells recieving each guide, how many cells would you need to transduce (assuming each cell recieves 1 guide)?\n",
        "\n",
        "---\n"
      ]
    },
    {
      "cell_type": "code",
      "source": [
        "%%R\n",
        "## If you're an R pro and you'd like to try exactly calculating the mean number of counts per guide\n",
        "## in each sample, here's a space to do so"
      ],
      "metadata": {
        "id": "T27L0ACH2r7L"
      },
      "id": "T27L0ACH2r7L",
      "execution_count": null,
      "outputs": []
    },
    {
      "cell_type": "markdown",
      "id": "b04081f6-d737-436e-96a7-2ab0244cf2a1",
      "metadata": {
        "id": "b04081f6-d737-436e-96a7-2ab0244cf2a1"
      },
      "source": [
        "------\n",
        " <a name=\"step3\"></a>\n",
        "# Step 3: Identifying significantly perturbed genes in the screen\n",
        "\n",
        "**MAGECK**\n",
        "\n",
        "Since our data appears to be of suitable quality for downstream processing, we will now try to identify which genes are essential in the HAP1 cell line by comparing samples over the course of the experiment.\n",
        "\n",
        "To do this, we will use [MAGECK](https://genomebiology.biomedcentral.com/articles/10.1186/s13059-014-0554-4), a popular tool for CRISPR counts analysis that employs a negative binomial (NB) model to identify significantly perturbed genes in a dataset.\n",
        "\n",
        "In brief, MAGECK will:\n",
        "\n",
        "- Median-normalise the dataset (to account for differences in sequencing depth between samples),\n",
        "- Model the mean-variance trend in the dataset (to better handle guides with very low or very high mean counts),\n",
        "- Perform statistical testing and appropriate corrections to identify guides with significantly different counts at the start and end of the screen.\n",
        "\n",
        "\n",
        "**Figure 4: Data processing in MAGECK**\n",
        "\n",
        "![Figure 4: MAGECK processing](https://github.com/WCSCourses/CRISPR_Informatics_2024/blob/jb63_screening_module/modules/crispr_screen_analysis/figures/MAGECK_processing.png?raw=1)\n",
        "\n",
        "Taken from: Li, W., Xu, H., Xiao, T. et al. MAGeCK enables robust identification of essential genes from genome-scale CRISPR/Cas9 knockout screens\n",
        "\n",
        "----\n",
        "This process will generate a \"log fold change\" value for each guide in the dataset (a measure of effect size — how much the guide counts change by in the treatment) and a *p-value* (a measure of our statistical confidence that the change isn't simple due to chance). Roughly speaking, p-values are determined by both the average log fold change observed for a guide, and the variability between replicates.\n",
        "\n",
        "\n",
        "**Setting up MAGECK**\n",
        "\n",
        "We can start using MAGECK by installing it through conda. Ordinarily, this would print a long message about the installation process in the cell below. To keep things readable, we will silence the next cell by redirecting its output to a \"black hole\" in the computer terminal using\n",
        " `&> /dev/null`\n",
        "\n",
        "Installing should take about a minute. Feel free to read on!\n",
        "\n"
      ]
    },
    {
      "cell_type": "code",
      "execution_count": 1,
      "id": "5caabef0-84ce-4177-bc38-0c3aa1deeaa7",
      "metadata": {
        "id": "5caabef0-84ce-4177-bc38-0c3aa1deeaa7"
      },
      "outputs": [],
      "source": [
        "!conda install bioconda::mageck &> /dev/null"
      ]
    },
    {
      "cell_type": "markdown",
      "id": "FID4FOK2oj-b",
      "metadata": {
        "id": "FID4FOK2oj-b"
      },
      "source": [
        "**Verifying the installation has worked**\n",
        "\n",
        "Once the above cell has finished executing (the circle stops spinning) you should be able to verify that MAGECK is installed and view the tool's options by using the -h (help) flag."
      ]
    },
    {
      "cell_type": "code",
      "execution_count": 2,
      "id": "k0-ehxTQWtwO",
      "metadata": {
        "id": "k0-ehxTQWtwO",
        "colab": {
          "base_uri": "https://localhost:8080/"
        },
        "outputId": "650fbdd5-05c8-4bf6-a14b-91c5c355720c"
      },
      "outputs": [
        {
          "output_type": "stream",
          "name": "stdout",
          "text": [
            "usage: mageck [-h] [-v] {count,test,pathway,plot,mle} ...\n",
            "\n",
            "mageck: performs sgRNA, gene and pathway analysis on CRISPR-Cas9 screening\n",
            "data.\n",
            "\n",
            "positional arguments:\n",
            "  {count,test,pathway,plot,mle}\n",
            "                        commands to run mageck\n",
            "    count               Collecting read counts from fastq files.\n",
            "    test                Perform statistical test from a given count table\n",
            "                        (generated by count command).\n",
            "    pathway             Perform significant pathway analysis from gene\n",
            "                        rankings generated by the test command.\n",
            "    plot                Generating graphics for selected genes.\n",
            "    mle                 Perform MLE estimation of gene essentiality.\n",
            "\n",
            "options:\n",
            "  -h, --help            show this help message and exit\n",
            "  -v, --version         show program's version number and exit\n"
          ]
        }
      ],
      "source": [
        "!mageck -h"
      ]
    },
    {
      "cell_type": "markdown",
      "id": "o3p64zBKgo9K",
      "metadata": {
        "id": "o3p64zBKgo9K"
      },
      "source": [
        "\n",
        "**How to use MAGECK**\n",
        "\n",
        "MAGECK has several subcommands that are available to you - the user. Two are relevant to us in this tutorial: one for generating count files like the one we are using (`count`), and another for analyzing them (`test`). Try accessing the help messages for the two MAGECK subcommands mageck count and mageck test by completing the code blocks below. How do they work?"
      ]
    },
    {
      "cell_type": "code",
      "execution_count": null,
      "id": "F9bK8527qxEz",
      "metadata": {
        "id": "F9bK8527qxEz"
      },
      "outputs": [],
      "source": [
        "# Try to access the count help message here"
      ]
    },
    {
      "cell_type": "code",
      "execution_count": null,
      "id": "FLiz8_lIqwvW",
      "metadata": {
        "id": "FLiz8_lIqwvW"
      },
      "outputs": [],
      "source": [
        "# Try to access the stat help message here"
      ]
    },
    {
      "cell_type": "markdown",
      "id": "dRQgJNeGpHGn",
      "metadata": {
        "id": "dRQgJNeGpHGn"
      },
      "source": [
        "**Running MAGECK**\n",
        "\n",
        "Now that MAGECK is installed and ready to run, we need to define the *contrast* we want to perform (comparing our T0 and T18 samples). Using the MAGECK command options, we can do this by specifying our control (c=T0) and treatment samples (t=T18A,T18B,T18C) based on their column positions in the file (starting from 0).\n",
        "\n",
        "\n",
        "When we run MAGECK, we will also instruct it to name all of the output files `all_vs_control` and to output the \"normalised\" guide counts it generates to a file using `--normcounts-to-file`.\n",
        "\n"
      ]
    },
    {
      "cell_type": "code",
      "execution_count": 3,
      "id": "gccwLS6MV6Uk",
      "metadata": {
        "id": "gccwLS6MV6Uk",
        "colab": {
          "base_uri": "https://localhost:8080/"
        },
        "outputId": "37791a7c-238b-4cf0-cd96-ff572207ca6e"
      },
      "outputs": [
        {
          "output_type": "stream",
          "name": "stdout",
          "text": [
            "INFO  @ Sat, 12 Jul 2025 14:36:43: Parameters: /usr/local/bin/mageck test -k reads_hap1.txt -c 0 -t 1,2,3 -n all_vs_control --normcounts-to-file \n",
            "INFO  @ Sat, 12 Jul 2025 14:36:43: Welcome to MAGeCK v0.5.9.5. Command: test \n",
            "INFO  @ Sat, 12 Jul 2025 14:36:43: Loading count table from reads_hap1.txt  \n",
            "INFO  @ Sat, 12 Jul 2025 14:36:43: Processing 1 lines.. \n",
            "INFO  @ Sat, 12 Jul 2025 14:36:43: Loaded 71090 records. \n",
            "INFO  @ Sat, 12 Jul 2025 14:36:43: Loading Rnw template file: /usr/local/lib/python3.11/site-packages/mageck/test_report.Rmd. \n",
            "INFO  @ Sat, 12 Jul 2025 14:36:43: Loading R template file: /usr/local/lib/python3.11/site-packages/mageck/plot_template.RTemplate. \n",
            "INFO  @ Sat, 12 Jul 2025 14:36:43: Loading R template file: /usr/local/lib/python3.11/site-packages/mageck/plot_template_indvgene.RTemplate. \n",
            "INFO  @ Sat, 12 Jul 2025 14:36:43: Loading Rnw template file: /usr/local/lib/python3.11/site-packages/mageck/plot_template.Rnw. \n",
            "INFO  @ Sat, 12 Jul 2025 14:36:43: Treatment samples:1,2,3 \n",
            "INFO  @ Sat, 12 Jul 2025 14:36:43: Treatment sample index:1,2,3 \n",
            "INFO  @ Sat, 12 Jul 2025 14:36:43: Control samples:0 \n",
            "INFO  @ Sat, 12 Jul 2025 14:36:43: Control sample index:0 \n",
            "INFO  @ Sat, 12 Jul 2025 14:36:43: Final size factor: 0.5829298917460782 1.1631143907186396 1.1725452185510892 1.2595760552947013 \n",
            "INFO  @ Sat, 12 Jul 2025 14:36:43: Writing normalized read counts to all_vs_control.normalized.txt \n",
            "INFO  @ Sat, 12 Jul 2025 14:36:45: Detecting outliers from variance estimation.. Avg read count:[409.24424812564234], Var: [62119.701199782765] \n",
            "INFO  @ Sat, 12 Jul 2025 14:36:45: Skipping 166 sgRNAs from variance calculation because of their extreme high counts (> 4* STD (mean counts) ). \n",
            "INFO  @ Sat, 12 Jul 2025 14:36:45: Raw variance calculation: 0.0 for control, 1.0 for treatment \n",
            "INFO  @ Sat, 12 Jul 2025 14:36:46: Before RRA, 336 sgRNAs are removed with zero counts in both group(s). \n",
            "INFO  @ Sat, 12 Jul 2025 14:36:46: Use qnorm to reversely calculate sgRNA scores ... \n",
            "INFO  @ Sat, 12 Jul 2025 14:36:49: Running command: RRA -i all_vs_control.plow.txt -o all_vs_control.gene.low.txt -p 0.3163778726291093 --skip-gene NA --skip-gene na  \n",
            "INFO  @ Sat, 12 Jul 2025 14:37:32: Command message: \n",
            "INFO  @ Sat, 12 Jul 2025 14:37:32:   Welcome to RRA v 0.5.9. \n",
            "INFO  @ Sat, 12 Jul 2025 14:37:32:   Skipping gene NA for permutation ... \n",
            "INFO  @ Sat, 12 Jul 2025 14:37:32:   Skipping gene na for permutation ... \n",
            "INFO  @ Sat, 12 Jul 2025 14:37:32:   Reading input file... \n",
            "INFO  @ Sat, 12 Jul 2025 14:37:32:   Summary: 70754 sgRNAs, 18056 genes, 1 lists; skipped sgRNAs:0 \n",
            "INFO  @ Sat, 12 Jul 2025 14:37:32:   Computing lo-values for each group... \n",
            "INFO  @ Sat, 12 Jul 2025 14:37:32:   Computing false discovery rate... \n",
            "INFO  @ Sat, 12 Jul 2025 14:37:32:   Permuting genes with 1 sgRNAs... \n",
            "INFO  @ Sat, 12 Jul 2025 14:37:32:   Permuting genes with 2 sgRNAs... \n",
            "INFO  @ Sat, 12 Jul 2025 14:37:32:   Permuting genes with 3 sgRNAs... \n",
            "INFO  @ Sat, 12 Jul 2025 14:37:32:   Permuting genes with 4 sgRNAs... \n",
            "INFO  @ Sat, 12 Jul 2025 14:37:32:   Permuting genes with 22 sgRNAs... \n",
            "INFO  @ Sat, 12 Jul 2025 14:37:32:   Permuting genes with 24 sgRNAs... \n",
            "INFO  @ Sat, 12 Jul 2025 14:37:32:   Permuting genes with 94 sgRNAs... \n",
            "INFO  @ Sat, 12 Jul 2025 14:37:32:   Number of genes under FDR adjustment: 18056 \n",
            "INFO  @ Sat, 12 Jul 2025 14:37:32:   Saving to output file... \n",
            "INFO  @ Sat, 12 Jul 2025 14:37:32:   RRA completed. \n",
            "INFO  @ Sat, 12 Jul 2025 14:37:32:   Groups deletion complete. \n",
            "INFO  @ Sat, 12 Jul 2025 14:37:32:   Lists deletion complete. \n",
            "INFO  @ Sat, 12 Jul 2025 14:37:32:    \n",
            "INFO  @ Sat, 12 Jul 2025 14:37:32: End command message. \n",
            "INFO  @ Sat, 12 Jul 2025 14:37:32: Running command: RRA -i all_vs_control.phigh.txt -o all_vs_control.gene.high.txt -p 0.32302060660881365 --skip-gene NA --skip-gene na  \n",
            "INFO  @ Sat, 12 Jul 2025 14:38:16: Command message: \n",
            "INFO  @ Sat, 12 Jul 2025 14:38:16:   Welcome to RRA v 0.5.9. \n",
            "INFO  @ Sat, 12 Jul 2025 14:38:16:   Skipping gene NA for permutation ... \n",
            "INFO  @ Sat, 12 Jul 2025 14:38:16:   Skipping gene na for permutation ... \n",
            "INFO  @ Sat, 12 Jul 2025 14:38:16:   Reading input file... \n",
            "INFO  @ Sat, 12 Jul 2025 14:38:16:   Summary: 70754 sgRNAs, 18056 genes, 1 lists; skipped sgRNAs:0 \n",
            "INFO  @ Sat, 12 Jul 2025 14:38:16:   Computing lo-values for each group... \n",
            "INFO  @ Sat, 12 Jul 2025 14:38:16:   Computing false discovery rate... \n",
            "INFO  @ Sat, 12 Jul 2025 14:38:16:   Permuting genes with 1 sgRNAs... \n",
            "INFO  @ Sat, 12 Jul 2025 14:38:16:   Permuting genes with 2 sgRNAs... \n",
            "INFO  @ Sat, 12 Jul 2025 14:38:16:   Permuting genes with 3 sgRNAs... \n",
            "INFO  @ Sat, 12 Jul 2025 14:38:16:   Permuting genes with 4 sgRNAs... \n",
            "INFO  @ Sat, 12 Jul 2025 14:38:16:   Permuting genes with 22 sgRNAs... \n",
            "INFO  @ Sat, 12 Jul 2025 14:38:16:   Permuting genes with 24 sgRNAs... \n",
            "INFO  @ Sat, 12 Jul 2025 14:38:16:   Permuting genes with 94 sgRNAs... \n",
            "INFO  @ Sat, 12 Jul 2025 14:38:16:   Number of genes under FDR adjustment: 18056 \n",
            "INFO  @ Sat, 12 Jul 2025 14:38:16:   Saving to output file... \n",
            "INFO  @ Sat, 12 Jul 2025 14:38:16:   RRA completed. \n",
            "INFO  @ Sat, 12 Jul 2025 14:38:16:   Groups deletion complete. \n",
            "INFO  @ Sat, 12 Jul 2025 14:38:16:   Lists deletion complete. \n",
            "INFO  @ Sat, 12 Jul 2025 14:38:16:    \n",
            "INFO  @ Sat, 12 Jul 2025 14:38:16: End command message. \n",
            "INFO  @ Sat, 12 Jul 2025 14:38:17: Loading top 10 genes from all_vs_control.gene.low.txt: POLR2L,EIF3A,GTPBP10,PES1,MRPL53,TCEB2,MTG2,CHORDC1,RPSA,POLR3H \n",
            "INFO  @ Sat, 12 Jul 2025 14:38:17: Loading top 10 genes from all_vs_control.gene.high.txt: TSC2,TSC1,LacZ,DOT1L,DBF4,KCTD5,DEPDC5,OR52E4,CSK,IPCEF1 \n",
            "INFO  @ Sat, 12 Jul 2025 14:38:18: Running command: rm all_vs_control.plow.txt \n",
            "INFO  @ Sat, 12 Jul 2025 14:38:18: Running command: rm all_vs_control.phigh.txt \n",
            "INFO  @ Sat, 12 Jul 2025 14:38:18: Running command: rm all_vs_control.gene.low.txt \n",
            "INFO  @ Sat, 12 Jul 2025 14:38:18: Running command: rm all_vs_control.gene.high.txt \n"
          ]
        }
      ],
      "source": [
        "!mageck test -k reads_hap1.txt -c 0 -t 1,2,3 -n all_vs_control --normcounts-to-file\n"
      ]
    },
    {
      "cell_type": "markdown",
      "id": "U53wQF0M2COc",
      "metadata": {
        "id": "U53wQF0M2COc"
      },
      "source": [
        "**Results**\n",
        "\n",
        "As this block of code executes, it will progressively generate several files as the steps of the MAGECK process complete. One of the first files generated will be a `.normalized.txt` file, which contains recalculated guide counts from median normalisation. Median normalisation helps control for differences in the total number of sequencing reads between samples (e.g., if you had accidentally generated 1.5 million reads for one sample and 1 million reads for the others).\n",
        "\n",
        "Let's visualise this file and the results of normalisation in R:"
      ]
    },
    {
      "cell_type": "code",
      "execution_count": 9,
      "id": "5-oV7zOt2X6n",
      "metadata": {
        "id": "5-oV7zOt2X6n",
        "colab": {
          "base_uri": "https://localhost:8080/",
          "height": 803
        },
        "outputId": "07c6790c-afb3-40ff-8083-8980525221b6"
      },
      "outputs": [
        {
          "output_type": "stream",
          "name": "stdout",
          "text": [
            "── Attaching core tidyverse packages ──────────────────────── tidyverse 2.0.0 ──\n",
            "✔ dplyr     1.1.4     ✔ readr     2.1.5\n",
            "✔ forcats   1.0.0     ✔ stringr   1.5.1\n",
            "✔ ggplot2   3.5.2     ✔ tibble    3.3.0\n",
            "✔ lubridate 1.9.4     ✔ tidyr     1.3.1\n",
            "✔ purrr     1.0.4     \n",
            "── Conflicts ────────────────────────────────────────── tidyverse_conflicts() ──\n",
            "✖ dplyr::filter() masks stats::filter()\n",
            "✖ dplyr::lag()    masks stats::lag()\n",
            "ℹ Use the conflicted package (<http://conflicted.r-lib.org/>) to force all conflicts to become errors\n",
            "Rows: 71090 Columns: 6\n",
            "── Column specification ────────────────────────────────────────────────────────\n",
            "Delimiter: \"\\t\"\n",
            "chr (2): sgRNA, Gene\n",
            "dbl (4): HAP1_T0, HAP1_T18A, HAP1_T18B, HAP1_T18C\n",
            "\n",
            "ℹ Use `spec()` to retrieve the full column specification for this data.\n",
            "ℹ Specify the column types or set `show_col_types = FALSE` to quiet this message.\n"
          ]
        },
        {
          "output_type": "display_data",
          "data": {
            "image/png": "[encoded data removed]",
            "text/plain": [
              "<IPython.core.display.Image object>"
            ]
          },
          "metadata": {}
        }
      ],
      "source": [
        "%%R\n",
        "normalised_counts <- read_tsv(\"/content/all_vs_control.normalized.txt\") |>\n",
        "                     pivot_longer(cols = contains(\"HAP1\"),\n",
        "                                  values_to = \"counts\",\n",
        "                                  names_to = \"sample\")\n",
        "\n",
        "ggplot(normalised_counts, aes(x = sample, y=log2(counts+1))) +\n",
        "geom_boxplot(aes(fill = sample))\n",
        "\n"
      ]
    },
    {
      "cell_type": "markdown",
      "id": "JCuia4vW3f_4",
      "metadata": {
        "id": "JCuia4vW3f_4"
      },
      "source": [
        "\n",
        "---\n",
        "### Questions to consider iii)\n",
        "- If you look back at the boxplots of the raw guide counts that we generated earlier, how has median normalisation affected the dataset?\n",
        "---"
      ]
    },
    {
      "cell_type": "markdown",
      "id": "A3XAwZnPGow5",
      "metadata": {
        "id": "A3XAwZnPGow5"
      },
      "source": [
        "**Summary files**\n",
        "\n",
        "The next two outputs from the tool that are worth inspecting are the guide-level and gene-level summaries.\n",
        "\n",
        "**Guide-level summary**\n",
        "\n",
        "The guide-level summary tells us the extent to which each guide RNA was depleted or enriched during the screen. We can examine the most depleted guides from the library like so:\n",
        "\n"
      ]
    },
    {
      "cell_type": "code",
      "execution_count": 10,
      "id": "PI_Ov4hbGZtv",
      "metadata": {
        "id": "PI_Ov4hbGZtv",
        "colab": {
          "base_uri": "https://localhost:8080/"
        },
        "outputId": "d5ea6b71-05b9-4b9a-9dc1-41563d8604ec"
      },
      "outputs": [
        {
          "output_type": "stream",
          "name": "stdout",
          "text": [
            "Rows: 71090 Columns: 15\n",
            "── Column specification ────────────────────────────────────────────────────────\n",
            "Delimiter: \"\\t\"\n",
            "chr  (3): sgrna, Gene, treatment_count\n",
            "dbl (11): control_count, control_mean, treat_mean, LFC, control_var, adj_var...\n",
            "lgl  (1): high_in_treatment\n",
            "\n",
            "ℹ Use `spec()` to retrieve the full column specification for this data.\n",
            "ℹ Specify the column types or set `show_col_types = FALSE` to quiet this message.\n",
            "# A tibble: 35,546 × 6\n",
            "   sgrna                Gene     control_mean treat_mean    LFC        FDR\n",
            "   <chr>                <chr>           <dbl>      <dbl>  <dbl>      <dbl>\n",
            " 1 CGGCGGCTCCCACTCACCCA CPSF3L          1558.       15.2  -6.58 0.00000269\n",
            " 2 CGAGCTCAAGACCTACCACG PRPF38B         1254.        0   -10.3  0.00000361\n",
            " 3 TCAGACAGGTGACAGGCCCG WDR18           1667.       92.6  -4.15 0.0000104 \n",
            " 4 CGACAAGATGGCCACACCGG EIF3F           1475.       37.5  -5.26 0.0000145 \n",
            " 5 CGAAGTCAAAGCCACCACTG WDR25           1586.       78.6  -4.32 0.0000155 \n",
            " 6 ACTCTCCTCAGATGCCGCCA NPLOC4          1877       228.   -3.04 0.0000168 \n",
            " 7 TCACCCGTCCGTCACCTCCG C12orf45        1286.       11.6  -6.67 0.0000211 \n",
            " 8 TCGACACACAGCCACCGCCA C7orf26         1495.       65.7  -4.49 0.0000246 \n",
            " 9 TCTGCTAGCTCCCTATGCCA ATP5B           1004.        0    -9.97 0.0000307 \n",
            "10 CACGAGGAAGACCATACCCT POLR1D           965.        0    -9.92 0.0000428 \n",
            "# ℹ 35,536 more rows\n",
            "# ℹ Use `print(n = ...)` to see more rows\n"
          ]
        }
      ],
      "source": [
        "%%R\n",
        "read_tsv(\"/content/all_vs_control.sgrna_summary.txt\") |>\n",
        "filter(LFC < 0) |>\n",
        "select(sgrna, Gene, control_mean, treat_mean, LFC, FDR) |>\n",
        "arrange(FDR)"
      ]
    },
    {
      "cell_type": "markdown",
      "id": "kEjea1taLi4R",
      "metadata": {
        "id": "kEjea1taLi4R"
      },
      "source": [
        "How could you revise that code snippet to return the most significantly enriched guides in the experiment? How about the guides with the largest changes in abundance?"
      ]
    },
    {
      "cell_type": "code",
      "execution_count": null,
      "id": "ujRDYFT-LdJu",
      "metadata": {
        "id": "ujRDYFT-LdJu"
      },
      "outputs": [],
      "source": [
        "# Enter your solution here"
      ]
    },
    {
      "cell_type": "markdown",
      "id": "Ac7H2U7yIptj",
      "metadata": {
        "id": "Ac7H2U7yIptj"
      },
      "source": [
        "Remember, in these results files, LFC (Log Fold Change) represents the magnitude of depletion or enrichment of a guide (effect size); FDR represents our level of statistical confidence that the depletion or enrichment is not due to random chance. FDR stands for \"False Discovery Rate,\" and here it refers to the adjusted p-value, corrected using the Benjamini-Hochberg method. This correction is commonly applied to p-values in large bioinformatics datasets to account for a statistical issue called \"multiple testing.\n",
        "\n",
        "**Gene-level summary**\n",
        "\n",
        "The gene-level summary file tells us which genes are the most strongly perturbed in the screen:\n"
      ]
    },
    {
      "cell_type": "code",
      "execution_count": 11,
      "id": "mZfufc9JGje4",
      "metadata": {
        "id": "mZfufc9JGje4",
        "colab": {
          "base_uri": "https://localhost:8080/"
        },
        "outputId": "2030bcad-7ce7-4c8a-db01-88a2bdcded3d"
      },
      "outputs": [
        {
          "output_type": "stream",
          "name": "stdout",
          "text": [
            "Rows: 18056 Columns: 14\n",
            "── Column specification ────────────────────────────────────────────────────────\n",
            "Delimiter: \"\\t\"\n",
            "chr  (1): id\n",
            "dbl (13): num, neg|score, neg|p-value, neg|fdr, neg|rank, neg|goodsgrna, neg...\n",
            "\n",
            "ℹ Use `spec()` to retrieve the full column specification for this data.\n",
            "ℹ Specify the column types or set `show_col_types = FALSE` to quiet this message.\n",
            "# A tibble: 18,056 × 14\n",
            "   id        num  `neg|score` `neg|p-value` `neg|fdr` `neg|rank` `neg|goodsgrna`\n",
            "   <chr>   <dbl>        <dbl>         <dbl>     <dbl>      <dbl>           <dbl>\n",
            " 1 POLR2L      4      3.85e-9   0.000000274   0.00103          1               4\n",
            " 2 EIF3A       4      2.08e-8   0.000000274   0.00103          2               4\n",
            " 3 GTPBP10     4      7.41e-8   0.000000274   0.00103          3               4\n",
            " 4 PES1        4      9.76e-8   0.000000274   0.00103          4               4\n",
            " 5 MRPL53      4      1.35e-7   0.000000823   0.00103          5               4\n",
            " 6 TCEB2       4      1.36e-7   0.000000823   0.00103          6               4\n",
            " 7 MTG2        4      1.64e-7   0.000000823   0.00103          7               4\n",
            " 8 CHORDC1     4      1.75e-7   0.000000823   0.00103          8               4\n",
            " 9 RPSA        4      1.83e-7   0.000000823   0.00103          9               4\n",
            "10 POLR3H      4      2.74e-7   0.00000137    0.00103         10               4\n",
            "# ℹ 18,046 more rows\n",
            "# ℹ 7 more variables: `neg|lfc` <dbl>, `pos|score` <dbl>, `pos|p-value` <dbl>,\n",
            "#   `pos|fdr` <dbl>, `pos|rank` <dbl>, `pos|goodsgrna` <dbl>, `pos|lfc` <dbl>\n",
            "# ℹ Use `print(n = ...)` to see more rows\n"
          ]
        }
      ],
      "source": [
        "%%R\n",
        "read_tsv(\"/content/all_vs_control.gene_summary.txt\")"
      ]
    },
    {
      "cell_type": "markdown",
      "id": "1FFm86BTKNt_",
      "metadata": {
        "id": "1FFm86BTKNt_"
      },
      "source": [
        "These gene-level statistics are generated in MAGECK by combining the results from multiple guides in the library that target the same gene. In this way, genes where multiple guides show large perturbations will have higher summary scores.\n",
        "\n",
        "\n",
        "----\n",
        "### Questions to consider iv)\n",
        "- Take a look at the top genes reported in the cell above and perform a quick internet search for them in another tab. Does their behaviour in the screen align with what you would expect based on their known functions?\n",
        "\n",
        "----\n"
      ]
    },
    {
      "cell_type": "markdown",
      "id": "TZoK9TKnCq78",
      "metadata": {
        "id": "TZoK9TKnCq78"
      },
      "source": [
        "If we were to pick out a particular gene (*e.g. PRPF38B*) and examine the counts for that guides that target it across different samples, we should observe a similar pattern: guide counts dropping over the screen."
      ]
    },
    {
      "cell_type": "code",
      "execution_count": 12,
      "id": "5FiWEuIlTIQ0",
      "metadata": {
        "id": "5FiWEuIlTIQ0",
        "colab": {
          "base_uri": "https://localhost:8080/",
          "height": 633
        },
        "outputId": "e6aba72c-f871-47fd-d073-c70efc75d279"
      },
      "outputs": [
        {
          "output_type": "stream",
          "name": "stdout",
          "text": [
            "Rows: 71090 Columns: 6\n",
            "── Column specification ────────────────────────────────────────────────────────\n",
            "Delimiter: \"\\t\"\n",
            "chr (2): sgRNA, Gene\n",
            "dbl (4): HAP1_T0, HAP1_T18A, HAP1_T18B, HAP1_T18C\n",
            "\n",
            "ℹ Use `spec()` to retrieve the full column specification for this data.\n",
            "ℹ Specify the column types or set `show_col_types = FALSE` to quiet this message.\n"
          ]
        },
        {
          "output_type": "display_data",
          "data": {
            "image/png": "[encoded data removed]",
            "text/plain": [
              "<IPython.core.display.Image object>"
            ]
          },
          "metadata": {}
        }
      ],
      "source": [
        "%%R\n",
        "\n",
        "normalised_counts <- read_tsv(\"/content/all_vs_control.normalized.txt\") |>\n",
        "                     pivot_longer(cols = contains(\"HAP1\"),\n",
        "                                  values_to = \"counts\",\n",
        "                                  names_to = \"sample\")\n",
        "genewise_counts <- normalised_counts |>\n",
        "filter(Gene == \"PRPF38B\") |>\n",
        "mutate(screen_stage = case_when(sample == \"HAP1_T0\" ~ \"before\",\n",
        "                                TRUE ~ \"post_screen\"))\n",
        "genewise_counts\n",
        "\n",
        "ggplot(genewise_counts, aes(x= sgRNA, y = log2(counts + 1))) +\n",
        "geom_boxplot(aes(fill = screen_stage)) +\n",
        "geom_jitter(data = genewise_counts, aes(x = sgRNA, y = log2(counts+1), color = screen_stage),\n",
        "            position = position_jitterdodge(jitter.width = 0.2, dodge.width = 0.7)) +\n",
        "theme(axis.text.x = element_text(angle = 90, hjust = 1))\n"
      ]
    },
    {
      "cell_type": "markdown",
      "source": [
        "This looks to be the case! Note that the depletion for the different guides targeting the gene differs. Any ideas why?"
      ],
      "metadata": {
        "id": "9_m1FKrF5lyn"
      },
      "id": "9_m1FKrF5lyn"
    },
    {
      "cell_type": "code",
      "execution_count": null,
      "id": "Qpk77WsNQbu_",
      "metadata": {
        "id": "Qpk77WsNQbu_"
      },
      "outputs": [],
      "source": [
        "# Why not try adapting the code to another gene"
      ]
    },
    {
      "cell_type": "markdown",
      "id": "rRTcS2YwTPPr",
      "metadata": {
        "id": "rRTcS2YwTPPr"
      },
      "source": [
        "**How summarising across guides works**\n",
        "\n",
        "Summarising across genes in MAGECK is achieved using a technique called Robust Rank Aggregation (RRA). RRA organises guides into a list according to their *p-value* for depletion or enrichment. In the figure below, this means that the most significantly depleted guides (with the smallest *p-values*) are placed on the left-hand side of the list. The algorithm then looks for genes whose guides are not evenly distributed throughout the list (e.g., a gene whose guides are all perturbed, with *p-values* clustered on the left-hand side).\n",
        "\n",
        "**Figure 5: Robust Rank Aggregation**\n",
        "\n",
        "![Figure 5: Robust Rank Aggregation](https://github.com/WCSCourses/CRISPR_Informatics_2024/blob/jb63_screening_module/modules/crispr_screen_analysis/figures/robust_rank_aggregation.png?raw=1)\n",
        "\n",
        "\n",
        "\n",
        "You can actually go one step further and use RRA (or similar methods) to summarise results across **genes** to find biological pathways or processes that are essential to a cell. This requires labelling genes with their known functions from a database like [Reactome](https://reactome.org/PathwayBrowser/).\n"
      ]
    },
    {
      "cell_type": "code",
      "source": [],
      "metadata": {
        "id": "KqWxsmCzEOrK"
      },
      "id": "KqWxsmCzEOrK",
      "execution_count": null,
      "outputs": []
    },
    {
      "cell_type": "markdown",
      "id": "WmsJr6YMGYcO",
      "metadata": {
        "id": "WmsJr6YMGYcO"
      },
      "source": [
        "---\n",
        "<a name=\"step4\"></a>\n",
        "# Step 4: Validating the results of our screen  \n",
        "\n",
        "Everything looks good so far, but how can we be sure that our screen worked as expected?\n",
        "\n",
        "In other experimental methods, you would typically use positive and negative controls to check that everything behaved as anticipated. We can do the same in a CRISPR screen by including built-in controls within the library.\n",
        "\n",
        "- For a negative control, we can examine the behaviour of guides that target known Non-essential genes (NEGs).\n",
        "- For a positive control, we can assess the behaviour of guides targeting known Common essential genes (CEGs), which in previous experiments have been shown to cause cell death when targeted.\n",
        "\n",
        "Now, let's read in some files containing these genes and label the genes in our CRISPR dataset according to their expected behaviour."
      ]
    },
    {
      "cell_type": "code",
      "execution_count": 82,
      "id": "jhwsjU-4XQcS",
      "metadata": {
        "id": "jhwsjU-4XQcS",
        "colab": {
          "base_uri": "https://localhost:8080/"
        },
        "outputId": "9bbe6d83-d159-4ff3-fdc1-36c0597c303e"
      },
      "outputs": [
        {
          "output_type": "stream",
          "name": "stdout",
          "text": [
            "Rows: 927 Columns: 3\n",
            "── Column specification ────────────────────────────────────────────────────────\n",
            "Delimiter: \"\\t\"\n",
            "chr (2): GENE, HGNC_ID\n",
            "dbl (1): ENTREZ_ID\n",
            "\n",
            "ℹ Use `spec()` to retrieve the full column specification for this data.\n",
            "ℹ Specify the column types or set `show_col_types = FALSE` to quiet this message.\n",
            "Rows: 684 Columns: 3\n",
            "── Column specification ────────────────────────────────────────────────────────\n",
            "Delimiter: \"\\t\"\n",
            "chr (2): GENE, HGNC_ID\n",
            "dbl (1): ENTREZ_ID\n",
            "\n",
            "ℹ Use `spec()` to retrieve the full column specification for this data.\n",
            "ℹ Specify the column types or set `show_col_types = FALSE` to quiet this message.\n",
            "# A tibble: 1,611 × 2\n",
            "   GENE   type         \n",
            "   <chr>  <chr>        \n",
            " 1 ABCG8  non-essential\n",
            " 2 ACCSL  non-essential\n",
            " 3 ACTL7A non-essential\n",
            " 4 ACTL7B non-essential\n",
            " 5 ACTL9  non-essential\n",
            " 6 ACTRT1 non-essential\n",
            " 7 ADAD1  non-essential\n",
            " 8 ADAM18 non-essential\n",
            " 9 ADAM2  non-essential\n",
            "10 ADAM20 non-essential\n",
            "# ℹ 1,601 more rows\n",
            "# ℹ Use `print(n = ...)` to see more rows\n"
          ]
        }
      ],
      "source": [
        "  %%R\n",
        "non_essential <- read_tsv(\"/content/NEGv1.txt\") |>\n",
        "select(GENE) |>\n",
        "mutate(type = \"non-essential\")\n",
        "\n",
        "essential <- read_tsv(\"/content/CEGv2.txt\") |>\n",
        "select(GENE) |>\n",
        "mutate(type = \"common-essential\")\n",
        "\n",
        "\n",
        "essentiality_class <- bind_rows(non_essential, essential)\n",
        "essentiality_class\n"
      ]
    },
    {
      "cell_type": "markdown",
      "id": "Mrz88IJRQx41",
      "metadata": {
        "id": "Mrz88IJRQx41"
      },
      "source": [
        "Executing the code above provides us with a dataframe in R that describes which genes are essential and which are non-essential. Now, let's add this information to our gene-level dataset to explore which types of genes are among the most depleted.\n",
        "\n",
        "We can link the two datasets using an operation called a join, where rows with matching \"keys\"—in this case, gene names—are merged.\n",
        "\n"
      ]
    },
    {
      "cell_type": "code",
      "execution_count": null,
      "id": "UnCol2UpQ6tO",
      "metadata": {
        "id": "UnCol2UpQ6tO"
      },
      "outputs": [],
      "source": [
        "%%R\n",
        "gene_summary_data <- read_tsv(\"/content/all_vs_control.gene_summary.txt\")\n",
        "\n",
        "annotated_data <- left_join(gene_summary_data, essentiality_class, by = c(\"id\" = \"GENE\"))\n",
        "\n",
        "\n",
        "# Let's print the most depleted genes in the screen and their predicted functions\n",
        "annotated_data |>\n",
        "select(id, type, `neg|score`, `neg|fdr`)"
      ]
    },
    {
      "cell_type": "markdown",
      "id": "KrsjQEsJf4bd",
      "metadata": {
        "id": "KrsjQEsJf4bd"
      },
      "source": [
        "---\n",
        "### Questions to consider v)\n",
        "Take a look at the annotations given to the top most depleted genes Do they line up with what you'd expect?\n",
        "\n",
        "---\n",
        "\n",
        "### A more quantitative approach to screen QC\n",
        "\n",
        "We can quantify the success of a screen by comparing the degree to which common essential genes are depleted relative to non-essential genes. At WTSI, we frequently use a summary statistic called the Null Normalised Mean Difference (NNMD) for this purpose. Essentially, a more negative NNMD in a CRISPR screen indicates a greater separation in behaviour between core essential and non-essential genes.\n",
        "\n",
        "\n",
        "It is calculated as:\n",
        "\n",
        "$$\n",
        "\\text{NNMD} = \\frac{\\text{Mean(LFC_CEGs)} -\\text{Mean(LFC_NEGs)}}{\\text{Std-dev(LFC_NEGs)}}\n",
        "$$\n",
        "\n",
        "\n",
        "So, when we calculate the NNMD of this screen by running the code block below, we get a value of...\n",
        "\n"
      ]
    },
    {
      "cell_type": "code",
      "execution_count": null,
      "id": "1AWWUYbOfo34",
      "metadata": {
        "id": "1AWWUYbOfo34"
      },
      "outputs": [],
      "source": [
        "%%R\n",
        "  # Calculate nnmd\n",
        "  nnmd <- annotated_data |>\n",
        "    dplyr::rename(LFC = `neg|lfc`) |>\n",
        "    group_by(type) |>\n",
        "    summarise(mean_lfc = mean(LFC), sd_lfc = sd(LFC)) |>\n",
        "    pivot_wider(names_from = type,\n",
        "                values_from = c(mean_lfc, sd_lfc)) |>\n",
        "    mutate(nnmd = (`mean_lfc_common-essential` - `mean_lfc_non-essential`) /\n",
        "                 `sd_lfc_non-essential`) |>\n",
        "    mutate(nnmd_label = sprintf('NNMD = %.2f', nnmd))\n",
        "  nnmd |> select(nnmd)"
      ]
    },
    {
      "cell_type": "markdown",
      "id": "puKEb6wni9Nk",
      "metadata": {
        "id": "puKEb6wni9Nk"
      },
      "source": [
        "**Results and reflections**\n",
        "\n",
        "The Cancer Dependency Map requires an NNMD value of -1.0 or lower to consider a screen suitable for further analysis, so the results of this screen are encouraging! Our known essential genes are being depleted 🎉\n",
        "\n",
        "We can visualise what the NNMD score for the screen represents by plotting the distribution of changes in gRNA counts for our negative and positive control genes. In this plot, the NA genes are those for which the essentiality was not known beforehand.\n"
      ]
    },
    {
      "cell_type": "code",
      "execution_count": null,
      "id": "MG-zNSYRbW3X",
      "metadata": {
        "id": "MG-zNSYRbW3X"
      },
      "outputs": [],
      "source": [
        "\n",
        "%%R\n",
        "ggplot(annotated_data, aes(x = `neg|lfc`, fill = type)) +\n",
        "          geom_density(alpha = 0.5) +\n",
        "          labs(x = \"LFC\", y = \"Density\") +\n",
        "          theme_bw() +\n",
        "          theme(legend.position = \"top\", panel.border = element_blank()) +\n",
        "          scale_fill_discrete(\n",
        "            labels = c(\"Positive Controls\", \"Negative Controls\")\n",
        "          ) +\n",
        "          scale_y_continuous(expand = c(0, 0)) +\n",
        "          annotate(\n",
        "            \"text\", x = Inf, y = Inf, label = nnmd[[\"nnmd_label\"]],\n",
        "            hjust = 1.1, vjust = 2, size = 5, colour = \"black\"\n",
        "          )"
      ]
    },
    {
      "cell_type": "markdown",
      "source": [
        "A bigger NNMD would reflect a larger separation between the negative and postive controls."
      ],
      "metadata": {
        "id": "tOGY_cWj6c6H"
      },
      "id": "tOGY_cWj6c6H"
    },
    {
      "cell_type": "markdown",
      "id": "ls_P7x_CRh3l",
      "metadata": {
        "id": "ls_P7x_CRh3l"
      },
      "source": [
        "----\n",
        "### Questions to consider vi)\n",
        "- Looking at the distribution above, what can you infer about the essentiality of the genes with unknown essentiality (NA) in this HAP1 cell line?\n",
        "- Imagine you were working in a non-model organism and didn't have a list of non-essential genes to use as a negative control. What guides could you use instead?\n",
        "- Similarly, can you think of an alternative set of guides that you might use as a positive control?\n",
        "\n",
        "----\n",
        "\n",
        "Since we now have some confidence that the screen was a success, let's visualise its results with a volcano plot. Volcano plots can be a helpful final-stage visualisation for this kind of data because they display both effect sizes (Log Fold Changes) and statistical confidence measures (p-values). Points towards the top of the volcano plot represent genes with smaller p-values, while points towards the sides represent genes with larger changes in scores. We'll colour genes that pass statistical testing in blue and highlight some of our top genes:"
      ]
    },
    {
      "cell_type": "code",
      "execution_count": null,
      "id": "ZfaqEkNeuN2G",
      "metadata": {
        "id": "ZfaqEkNeuN2G"
      },
      "outputs": [],
      "source": [
        "\n",
        "%%R\n",
        "library(ggrepel)\n",
        "gene_summary <- annotated_data |>\n",
        "        mutate(Significant = ifelse(`neg|fdr` < 0.05, \"Yes\", \"No\"))\n",
        "\n",
        "gene_summary_labels <- gene_summary |>\n",
        "    filter(`neg|fdr` < 0.05) |>\n",
        "    head(5)\n",
        "\n",
        "ggplot(gene_summary, aes(x = `neg|lfc`, y = -log10(`neg|fdr`),\n",
        "                                 label = id, color = Significant)) +\n",
        "                geom_point(alpha = 0.8) +\n",
        "                geom_text_repel(data = gene_summary_labels, aes(label = id),\n",
        "                        size = 5, nudge_y = 0.1,\n",
        "                        force = 10, max.overlaps = Inf) +\n",
        "                scale_color_manual(values = c(\"darkgrey\", \"steelblue\")) +\n",
        "                theme_bw() +\n",
        "                theme(legend.position = \"none\",\n",
        "                        panel.grid.major = element_blank(),\n",
        "                        panel.grid.minor = element_blank(),\n",
        "                        panel.border = element_blank(),\n",
        "                        axis.line = element_line(color = \"black\"),\n",
        "                        axis.line.x.top = element_blank(),\n",
        "                        axis.line.y.right = element_blank()) +\n",
        "                labs(x = \"LFC\", y = \"-log10(p-value)\")\n"
      ]
    },
    {
      "cell_type": "markdown",
      "id": "zxfi8ALMk7AX",
      "metadata": {
        "id": "zxfi8ALMk7AX"
      },
      "source": [
        "---\n",
        "### Questions to consider vii)\n",
        "\n",
        "If you've ever created a volcano plot for other kinds of bioinformatics analysis, such as transcriptomics, this one might look quite different. How does a CRISPR knockout volcano plot differ from others you've seen? Does it make sense why?\n",
        "\n",
        "---"
      ]
    },
    {
      "cell_type": "markdown",
      "id": "9c7545e5",
      "metadata": {
        "id": "9c7545e5"
      },
      "source": [
        "---\n",
        "<a name=\"step5\"></a>\n",
        "# Step 5: Alternative tools for CRISPR screen analysis\n",
        "\n",
        "\n",
        "Whilst MAGeCK is popular,it is not the only tool available for analysing CRISPR screens. There are several others that can be applied to the task we've just performed (with accompanying papers claiming why each gives the best results!).\n",
        "\n",
        "\n",
        "### BAGEL2\n",
        "\n",
        "It would be remiss if I didn't mention [BAGEL2](https://genomemedicine.biomedcentral.com/articles/10.1186/s13073-020-00809-3) in a discussion of CRISPR screening tools. BAGEL2 works in a different way to MAGECK - calculating \"Bayes Factors\" (scores) to represent a gene's essentiality.\n",
        "\n",
        "\n",
        "To use BAGEL2 we must first train a statistical model on the behaviors of Non-essential and core essential genes that are known to be widely essential and that were present in our screen. After training, Bagel can perform Bayesian classification to calculate probability that a gene's knockout effect (the fold changes across the guide RNAs) matches the essential gene pattern vs the non-essential pattern.\n",
        "\n",
        "\n",
        "In some scenarios, BAGEL has better sensitivity for detecting essential genes, and its latest version can better account for the off-target effects of guide RNAs on cell survival.\n",
        "\n",
        "Let's have a try!\n",
        "\n",
        "---\n",
        "**Figure 6: BAGEL2 performs well at distinguishing true essential genes from false positives compared to other methods**\n",
        "\n",
        "![Figure 6: BAGEL2 performs well at distinguishing true essential genes](https://github.com/WCSCourses/CRISPR_Informatics_2024/blob/jb63_screening_module/modules/crispr_screen_analysis/figures/Bagel2.png?raw=1)\n",
        "\n",
        "Taken from: [Kim, E., Hart, T. Improved analysis of CRISPR fitness screens and reduced off-target effects with the BAGEL2 gene essentiality classifier. Genome Med 13, 2 (2021)](https://doi.org/10.1186/s13073-020-00809-3)\n",
        "\n",
        "---\n",
        "\n"
      ]
    },
    {
      "cell_type": "markdown",
      "source": [
        "We'll start by fetching a copy of the BAGEL2 executable script and installing its python dependencies with pip (the python package manager)"
      ],
      "metadata": {
        "id": "sNt9fTdsRo2N"
      },
      "id": "sNt9fTdsRo2N"
    },
    {
      "cell_type": "code",
      "source": [
        "!wget https://raw.githubusercontent.com/hart-lab/bagel/refs/heads/master/BAGEL.py\n",
        "!pip install click numpy pandas scipy scikit.learn"
      ],
      "metadata": {
        "id": "mwhQyrbJGNZ2"
      },
      "id": "mwhQyrbJGNZ2",
      "execution_count": null,
      "outputs": []
    },
    {
      "cell_type": "markdown",
      "source": [
        "Check you have BAGEL2 installed and have a look at how you might use it"
      ],
      "metadata": {
        "id": "GzWeiG2iR2jb"
      },
      "id": "GzWeiG2iR2jb"
    },
    {
      "cell_type": "code",
      "source": [
        "!python ./BAGEL.py -h"
      ],
      "metadata": {
        "colab": {
          "base_uri": "https://localhost:8080/"
        },
        "id": "dvpgpXu7RzuU",
        "outputId": "d58ae854-781a-4c8f-c25e-5f503fc59430"
      },
      "id": "dvpgpXu7RzuU",
      "execution_count": 79,
      "outputs": [
        {
          "output_type": "stream",
          "name": "stdout",
          "text": [
            "Usage: BAGEL.py [OPTIONS] COMMAND [ARGS]...\n",
            "\n",
            "  --------------------------------------------------------------------\n",
            "  BAGEL.py\n",
            "  -------------------------------------------------------------------- A tool\n",
            "  from the Bayesian Analysis of Gene EssentiaLity (BAGEL) suite.\n",
            "\n",
            "  Calculate fold changes from read count data:\n",
            "\n",
            "          BAGEL.py fc -i [read count file] -o [output label] -c [control column]\n",
            "\n",
            "  Calculate Bayes Factors from foldchange data:\n",
            "\n",
            "          BAGEL.py bf -i [fold change] -o [output file] -e [essentials genes] -n [nonessentials genes] -c [columns]\n",
            "\n",
            "  Calculate precision-recall from Bayes Factors:\n",
            "\n",
            "          BAGEL.py pr -i [Bayes Factor file] -o [output file] -e [essentials genes] -n [nonessentials genes]\n",
            "\n",
            "  To print the current build and version use:\n",
            "\n",
            "          BAGEL.py version\n",
            "\n",
            "Options:\n",
            "  -h, --help  Show this message and exit.\n",
            "\n",
            "Commands:\n",
            "  bf       Calculate Bayes Factors from an input fold change file:\n",
            "  fc       Calculate fold changes from read count data outputting a fold...\n",
            "  pr       Calculate precision-recall from an input Bayes Factors file:\n",
            "  version  Report the current build and version no.\n"
          ]
        }
      ]
    },
    {
      "cell_type": "markdown",
      "source": [
        "We'll start by generating a file of fold changes for the guides in our dataset using the same counts matrix that we input into MAGeCK.\n",
        "\n",
        "The BAGEL2 help message told us to input a read count file and specify a control columm. Lets label our outputs \"hap1_essentials\"\n",
        "\n",
        "\n",
        "`BAGEL.py fc -i [read count file] -o [output label] -c [control column]`"
      ],
      "metadata": {
        "id": "EMGMIX4YR_h7"
      },
      "id": "EMGMIX4YR_h7"
    },
    {
      "cell_type": "code",
      "source": [
        "!python ./BAGEL.py fc -i reads_hap1.txt -o hap1_essentials -c HAP1_T0"
      ],
      "metadata": {
        "colab": {
          "base_uri": "https://localhost:8080/"
        },
        "id": "1pzxxIWdGcRv",
        "outputId": "cebc7953-8abb-41cf-e685-115e7bd192fc"
      },
      "id": "1pzxxIWdGcRv",
      "execution_count": 80,
      "outputs": [
        {
          "output_type": "stream",
          "name": "stdout",
          "text": [
            "/content/./BAGEL.py:236: FutureWarning: A value is trying to be set on a copy of a DataFrame or Series through chained assignment using an inplace method.\n",
            "The behavior will change in pandas 3.0. This inplace method will never work because the intermediate object on which we are setting values always behaves as a copy.\n",
            "\n",
            "For example, when doing 'df[col].method(value, inplace=True)', try using 'df.method({col: value}, inplace=True)' or df[col] = df[col].method(value) instead, to perform the operation inplace on the original object.\n",
            "\n",
            "\n",
            "  reads[reads.columns.values[0]].fillna('NO_GENE_NAME', inplace=True)\n",
            "Controls: HAP1_T0\n"
          ]
        }
      ]
    },
    {
      "cell_type": "markdown",
      "source": [
        "If we take a look at the resulting output file, you might notice the number of columns has changed - why do you think this might be?"
      ],
      "metadata": {
        "id": "FDV2qIvhSqFR"
      },
      "id": "FDV2qIvhSqFR"
    },
    {
      "cell_type": "code",
      "source": [
        "!head hap1_essentials.foldchange"
      ],
      "metadata": {
        "colab": {
          "base_uri": "https://localhost:8080/"
        },
        "id": "FWDwWcidLeEH",
        "outputId": "bbf1457c-1881-4dc6-e3bf-f4a8140f6fde"
      },
      "id": "FWDwWcidLeEH",
      "execution_count": 48,
      "outputs": [
        {
          "output_type": "stream",
          "name": "stdout",
          "text": [
            "REAGENT_ID\tGENE\tHAP1_T18A\tHAP1_T18B\tHAP1_T18C\n",
            "ACTGGCGCCATCGAGAGCCA\tA1BG\t0.977\t0.927\t-0.768\n",
            "CAAGAGAAAGACCACGAGCA\tA1BG\t-1.034\t-1.396\t-0.953\n",
            "GCTCAGCTGGGTCCATCCTG\tA1BG\t-0.637\t-0.937\t-0.725\n",
            "GTCGAGCTGATTCTGAGCGA\tA1BG\t-0.246\t-0.583\t-1.012\n",
            "AGTTATGTTAGGTATACCCG\tA1CF\t0.360\t1.274\t1.394\n",
            "ATGACTCTCATACTCCACGA\tA1CF\t0.273\t0.774\t-0.040\n",
            "GGTGCAGCATCCCAACCAGG\tA1CF\t0.974\t-0.095\t0.389\n",
            "TGCGCTGGACCAGTGCGCGG\tA1CF\t-0.492\t-1.828\t-1.831\n",
            "AAGGTTCTAATTCAGAGGCA\tA2ML1\t0.499\t0.756\t1.127\n"
          ]
        }
      ]
    },
    {
      "cell_type": "markdown",
      "source": [
        "Now that we have our fold changes, we can input them into BAGELS bayes factor calculation. Remember that we neeed to supply a list of common essential and non-essential genes to train the BAGEL model with."
      ],
      "metadata": {
        "id": "HsCut0wTS5TD"
      },
      "id": "HsCut0wTS5TD"
    },
    {
      "cell_type": "code",
      "source": [
        "! python ./BAGEL.py bf -i hap1_essentials.foldchange -o hap1-essentials.bf -e CEGv2.txt -n NEGv1.txt -c 1,2,3\n"
      ],
      "metadata": {
        "colab": {
          "base_uri": "https://localhost:8080/"
        },
        "id": "8uEaGu_RLeYa",
        "outputId": "db2e95ef-8e94-4866-9a4e-c44130aec706"
      },
      "id": "8uEaGu_RLeYa",
      "execution_count": 81,
      "outputs": [
        {
          "output_type": "stream",
          "name": "stdout",
          "text": [
            "/usr/local/lib/python3.11/site-packages/click/core.py:1193: UserWarning: The parameter -s is used more than once. Remove its duplicate as parameters should be unique.\n",
            "  parser = self.make_parser(ctx)\n",
            "/usr/local/lib/python3.11/site-packages/click/core.py:1186: UserWarning: The parameter -s is used more than once. Remove its duplicate as parameters should be unique.\n",
            "  self.parse_args(ctx, args)\n",
            "Using column:  HAP1_T18A, HAP1_T18B, HAP1_T18C\n",
            "Number of unique genes:  18056\n",
            "Number of reference essentials: 684\n",
            "Number of reference nonessentials: 928\n",
            "Iter TrainEss TrainNon TestSet\n",
            "/content/./BAGEL.py:626: DeprecationWarning: `in1d` is deprecated. Use `np.isin` instead.\n",
            "  train_ess = np.where(np.in1d(genes_array[gene_train_idx], coreEss))[0]\n",
            "/content/./BAGEL.py:627: DeprecationWarning: `in1d` is deprecated. Use `np.isin` instead.\n",
            "  train_non = np.where(np.in1d(genes_array[gene_train_idx], nonEss))[0]\n",
            "0 578 719 1806\n",
            "/content/./BAGEL.py:668: DeprecationWarning: Conversion of an array with ndim > 0 to a scalar is deprecated, and will error in future. Ensure you extract a single element from your array before performing this operation. (Deprecated NumPy 1.25.)\n",
            "  for i in np.arange(xmin, xmax + 0.01, 0.01):\n",
            "1 555 712 1806\n",
            "2 591 718 1806\n",
            "3 577 703 1806\n",
            "4 595 721 1806\n",
            "5 595 732 1806\n",
            "6 578 726 1805\n",
            "7 577 713 1805\n",
            "8 582 710 1805\n",
            "9 586 719 1805\n"
          ]
        }
      ]
    },
    {
      "cell_type": "markdown",
      "source": [
        "When this finishes running, BAGEL2 will give us a file containing list of genes and their assigned Bayes Factors. **Genes with the largest positive Bayes Factors can be considered the most highly essential to cell survival in the screen**. Let's take a look at them:"
      ],
      "metadata": {
        "id": "Nqk1YV23TS6U"
      },
      "id": "Nqk1YV23TS6U"
    },
    {
      "cell_type": "code",
      "source": [
        "%%R\n",
        "library(tidyverse)\n",
        "bayes_factors <- read_tsv(\"hap1-essentials.bf\") |>\n",
        "arrange(desc(BF))\n",
        "bayes_factors"
      ],
      "metadata": {
        "colab": {
          "base_uri": "https://localhost:8080/"
        },
        "id": "sebgWZbyODNa",
        "outputId": "562e5fe3-2f54-457e-9c7b-e524837cc2e0"
      },
      "id": "sebgWZbyODNa",
      "execution_count": 71,
      "outputs": [
        {
          "output_type": "stream",
          "name": "stdout",
          "text": [
            "Rows: 18056 Columns: 2\n",
            "── Column specification ────────────────────────────────────────────────────────\n",
            "Delimiter: \"\\t\"\n",
            "chr (1): GENE\n",
            "dbl (1): BF\n",
            "\n",
            "ℹ Use `spec()` to retrieve the full column specification for this data.\n",
            "ℹ Specify the column types or set `show_col_types = FALSE` to quiet this message.\n",
            "# A tibble: 18,056 × 2\n",
            "   GENE       BF\n",
            "   <chr>   <dbl>\n",
            " 1 POLR2L   137.\n",
            " 2 POLR3H   133.\n",
            " 3 TCEB2    122.\n",
            " 4 GTPBP10  121.\n",
            " 5 ELP5     121.\n",
            " 6 GPN3     119.\n",
            " 7 RRM1     117.\n",
            " 8 PES1     114.\n",
            " 9 POLR2C   113.\n",
            "10 MRPL53   112.\n",
            "# ℹ 18,046 more rows\n",
            "# ℹ Use `print(n = ...)` to see more rows\n"
          ]
        }
      ]
    },
    {
      "cell_type": "markdown",
      "source": [
        "---\n",
        "### Questions to consider viii)\n",
        "\n",
        "How do the top genes we see compare to the ones we obtained from MAGeCK? Take a look at their functions online - do look important to HAP1 cell survival?\n",
        "\n",
        "---"
      ],
      "metadata": {
        "id": "OELtYb1jUfE7"
      },
      "id": "OELtYb1jUfE7"
    },
    {
      "cell_type": "markdown",
      "source": [
        "If we plot the distribution of Bayes Factors in the dataset we see a clear peak with a long tail to the right. What does this tell us about the proportion of genes that are essential in HAP1 cells?"
      ],
      "metadata": {
        "id": "zogrNYLqVolH"
      },
      "id": "zogrNYLqVolH"
    },
    {
      "cell_type": "code",
      "source": [
        "\n",
        "%%R\n",
        "ggplot(bayes_factors, aes(x = BF)) +\n",
        "geom_histogram(bins = 100) +\n",
        "xlim(-100, 100)"
      ],
      "metadata": {
        "colab": {
          "base_uri": "https://localhost:8080/",
          "height": 582
        },
        "id": "fUZrOb7NOWMb",
        "outputId": "031431db-526c-4b3b-bedf-ef876559deb1"
      },
      "id": "fUZrOb7NOWMb",
      "execution_count": 86,
      "outputs": [
        {
          "output_type": "stream",
          "name": "stderr",
          "text": [
            "R[write to console]: In addition: \n",
            "R[write to console]: Warning message:\n",
            "\n",
            "R[write to console]: Removed 28 rows containing non-finite outside the scale range (`stat_bin()`). \n",
            "\n"
          ]
        },
        {
          "output_type": "display_data",
          "data": {
            "image/png": "[encoded data removed]",
            "text/plain": [
              "<IPython.core.display.Image object>"
            ]
          },
          "metadata": {}
        }
      ]
    },
    {
      "cell_type": "markdown",
      "source": [
        "Lets overlay the essentiality of our known NEGs and CEGs to clarify things"
      ],
      "metadata": {
        "id": "n7YEb2GIW7Ok"
      },
      "id": "n7YEb2GIW7Ok"
    },
    {
      "cell_type": "code",
      "source": [
        "%%R\n",
        "annotated_bayes_data <- left_join(bayes_factors, essentiality_class, by = c(\"GENE\" = \"GENE\"))\n",
        "ggplot(annotated_bayes_data, aes(x = BF, fill = type)) +\n",
        "geom_histogram(bins = 100) +\n",
        "xlim(-100, 100)\n"
      ],
      "metadata": {
        "colab": {
          "base_uri": "https://localhost:8080/",
          "height": 582
        },
        "id": "Q1JhaAc8WsIJ",
        "outputId": "42f6eaeb-3193-4e0c-9183-f16abbd2dafb"
      },
      "id": "Q1JhaAc8WsIJ",
      "execution_count": 89,
      "outputs": [
        {
          "output_type": "stream",
          "name": "stderr",
          "text": [
            "R[write to console]: In addition: \n",
            "R[write to console]: Warning message:\n",
            "\n",
            "R[write to console]: Removed 28 rows containing non-finite outside the scale range (`stat_bin()`). \n",
            "\n"
          ]
        },
        {
          "output_type": "display_data",
          "data": {
            "image/png": "[encoded data removed]",
            "text/plain": [
              "<IPython.core.display.Image object>"
            ]
          },
          "metadata": {}
        }
      ]
    },
    {
      "cell_type": "code",
      "source": [
        "!python ./BAGEL.py pr -i hap1-essentials.bf -o hap1-essentials.pr -e CEGv2.txt -n NEGv1.txt"
      ],
      "metadata": {
        "id": "lsuoj-jIIuTp"
      },
      "id": "lsuoj-jIIuTp",
      "execution_count": 65,
      "outputs": []
    },
    {
      "cell_type": "markdown",
      "source": [
        "---\n",
        "\n",
        "***Optional***\n",
        "\n",
        "\n",
        "If you're condident in R and feeling ambitious see if you can generate a plot to compare the results of the two methods (MAGECK vs BAGEL). How well do the two methods correlate?\n",
        "\n",
        "---"
      ],
      "metadata": {
        "id": "1-mSPKdLXjsC"
      },
      "id": "1-mSPKdLXjsC"
    },
    {
      "cell_type": "code",
      "execution_count": null,
      "id": "AqvRJJzvjfv0",
      "metadata": {
        "id": "AqvRJJzvjfv0"
      },
      "outputs": [],
      "source": [
        "%%R\n",
        "\n",
        "## Enter your code here\n"
      ]
    },
    {
      "cell_type": "markdown",
      "source": [
        "**gscreend**\n",
        "\n",
        "Another example of a more recently published CRISPR analysis tool is [gscreend](https://genomebiology.biomedcentral.com/articles/10.1186/s13059-020-1939-1), an R package that performs similar screen analysis to MAGECK. Gscreend accounts for the peculiarities of CRISPR knockout screen data (namely, population bottlenecks and the fact that the majority of changes in a CRISPR knockout screen are depletions).\n",
        "\n",
        "**DESEQ2**\n",
        "\n",
        "Whilst not strictly designed for CRISPR analysis, tools from the world of RNAseq such as DESEQ2 can also be configured for CRISPR analysis. These models are particularly strong for multi-factor experimental designs where you want to look at several variables at once.   \n",
        "\n",
        "### Summary\n",
        "\n",
        "Each of these methods (MAGECK, gscreend, BAGEL2, and others) will have different sensitivities and specificities (their abilities to distinguish true positives and true negatives from false positives and false negatives), but they should give broadly similar results. When running this kind of analysis, you may want to compare and contrast the tools or take a consensus from several of them.\n"
      ],
      "metadata": {
        "id": "wKQub1T-JIQC"
      },
      "id": "wKQub1T-JIQC"
    },
    {
      "cell_type": "markdown",
      "id": "FAWZUpBfW3Hz",
      "metadata": {
        "id": "FAWZUpBfW3Hz"
      },
      "source": [
        "# Step 6: Considerations for CRISPR screen analysis\n",
        "\n",
        "---\n",
        "## What to use as a reference sample?\n",
        "\n",
        "In this experiment, we used a \"T0\" pre-screen sample derived from a **transduced cell population** for our comparisons. However, it has been observed that using a sample of the **plasmid library** intended for transfection might be a superior reference. When researchers compared the counts of gRNAs targeting essential genes in plasmid and T0 samples, they found that essential gene guide counts were already reduced at T0 (Imkeller, K., Ambrosi, G., Boutros, M. et al, 2020). This suggests that gene editing can occur quickly and means that some of the essential gene depletion scores in our screen might be underestimates!\n",
        "\n",
        "---\n",
        "## Bottlenecking\n",
        "\n",
        "The act of splitting and discarding cells is an example of a \"bottleneck\" event where the population is shrunk. This reduces diversity in the cell population you are screening and can artificially increase the apparent depletion of rare guides in your experiment (see Figure 7). This could result in some guides being spuriously identified as essential and other guides being identified as enriched. The authors of gscreend suggest using it as your CRIPSR analysis tool might help mitigate this effect, but it's also important to consider how often and how severely you passage your cells during a screen.\n",
        "\n",
        "\n",
        "---\n",
        "\n",
        "**Figure 7: Bottlenecking in cell cutlure**\n",
        "\n",
        "![Figure 7](https://github.com/WCSCourses/CRISPR_Informatics_2024/blob/jb63_screening_module/modules/crispr_screen_analysis/figures/bottlenecking.png?raw=1)\n",
        "\n",
        "Taken from [Imkeller, K., Ambrosi, G., Boutros, M. et al. gscreend: modelling asymmetric count ratios in CRISPR screens to decrease experiment size and improve phenotype detection. Genome Biol 21, 53 (2020)](https://genomebiology.biomedcentral.com/articles/10.1186/s13059-020-1939-1).\n",
        "\n",
        "Note how over successive rounds of growth and passaging, the red mutant cells can become artificially over-represented in and the other coloured cells depleted from the population - even in the absence of a fitness effect.\n",
        "\n",
        "---\n",
        "\n",
        "\n",
        "\n",
        "**Copy-number effects**\n",
        "\n",
        "In our analysis, we treated genes with the implicit assumption that each gene had an equal number of copies in the genome. However, in cancer cells, genomic instability and copy number alterations are widespread, and this assumption may not hold true.\n",
        "\n",
        "Several studies have shown that targeting CRISPR-Cas9 to regions with copy number gains causes more DNA double-strand breaks, triggering a stronger, gene-independent DNA damage response. This leads to cell-cycle arrest, and the net effect is that regions with copy number amplifications are much more likely to be depleted and appear as essential in a CRISPR knockout screen (see Figure 8).\n",
        "\n",
        "\n",
        "\n",
        "---\n",
        "**Figure 8: The effect of copy number on gene essentiality calculations**\n",
        "\n",
        "![Figure 7: ](https://github.com/WCSCourses/CRISPR_Informatics_2024/blob/jb63_screening_module/modules/crispr_screen_analysis/figures/copy_number_plot.png?raw=1)\n",
        "\n",
        "Taken from: [Aguirre AJ, Meyers RM, Weir BA, et al. Genomic Copy Number Dictates a Gene-Independent Cell Response to CRISPR/Cas9 Targeting. Cancer Discov. 2016;6(8):914-929. doi:10.1158/2159-8290.CD-16-0154](https://www.ncbi.nlm.nih.gov/pmc/articles/PMC4972686)\n",
        "\n",
        "Note how guide scores are negatively correlated with copy number accross the locus.\n",
        "\n",
        "\n",
        "---\n",
        "\n",
        "Several tools have been developed to mitigate this effect. MAGECK, for instance, has an inbuilt copy-number adjustment tool that controls for copy number alterations. Alternatively, [CRISPRcleanR](https://www.sanger.ac.uk/tool/crisprcleanr/) applies a circular binary segmentation algorithm to identify genomic regions where sgRNA impact is correlated. This algorithm operates on the principle that contiguous genes should not be equally essential, and when this phenomenon is observed, it is likely due to a copy number alteration.\n",
        "\n",
        "\n",
        "---------"
      ]
    },
    {
      "cell_type": "markdown",
      "id": "dc03c58e-2130-46e7-b717-8e81979803d8",
      "metadata": {
        "id": "dc03c58e-2130-46e7-b717-8e81979803d8"
      },
      "source": [
        "---\n",
        "<a name=\"summary\"></a>\n",
        "# Conclusions\n",
        "\n",
        "\n",
        "🎉🎉That's it for today! 🎉🎉\n",
        "\n",
        "\n",
        "In many ways, we've only just scratched the surface, and there's plenty more to explore. You might want to dive into topics such as pre-filtering low-count guides from the dataset, identifying problematic samples using tools like a Principal Component Analysis, or performing multi-factorial analysis with tools like MAGECK-MLE. Alternatively, you can often reach out to a friendly bioinformatician for some assistance. Either way — happy screening!\n",
        "\n",
        "As a reminder of what we covered in this session.\n",
        "\n",
        "- Given a CRISPR counts matrix, you can use data wrangling tools like R or Python to quickly verify that sequencing samples meet your expectations.\n",
        "- You'd expect samples to have similar overall guide distributions and similar total sequencing read.\n",
        "- You can use tools such as MAGECK, BAGEL2, and gscreend to identify depleted or enriched guides in an experiment.\n",
        "- These tools perform contrasts that compare guide RNA abundances in treatment vs. control samples and then aggregate this data at the gene level.\n",
        "- By including positive and negative control genes in your guide RNA library, you can use metrics like NNMD to validate the success of a screen.\n",
        "- Experimental and genomic factors may confound your experiment—so try to keep these in mind.\n",
        "\n"
      ]
    },
    {
      "cell_type": "markdown",
      "id": "_bTlrIHjjAWO",
      "metadata": {
        "id": "_bTlrIHjjAWO"
      },
      "source": [
        "---\n",
        "<a name=\"references\"></a>\n",
        "# References\n",
        "- [Andersson, B. S., Beran, M., Pathak, S., Goodacre, A., Barlogie, B., & McCredie, K. B. (1987). Ph-positive chronic myeloid leukemia with near-haploid conversion in vivo and establishment of a continuously growing cell line with similar cytogenetic pattern. Cancer genetics and cytogenetics, 24(2), 335–343.](https://pubmed.ncbi.nlm.nih.gov/3466682)\n",
        "\n",
        "- [Pacini, C., Dempster, J.M., Boyle, I. et al. Integrated cross-study datasets of genetic dependencies in cancer. Nat Commun 12, 1661 (2021)](https://www.nature.com/articles/s41467-021-21898-7)\n",
        "\n",
        "- [Joshua M. Dempster, Jordan Rossen, Mariya Kazachkova, Joshua Pan, Guillaume Kugener, David E. Root, Aviad Tsherniak. Extracting Biological Insights from the Project Achilles Genome-Scale CRISPR Screens in Cancer Cell Lines](https://www.biorxiv.org/content/10.1101/720243v1)\n",
        "\n",
        "- [Aguirre A.J., Meyers R.M., Weir B.A., et al. Genomic copy number dictates a gene-independent cell response to CRISPR-Cas9 targeting. Cancer Discov June 3 2016](https://pubmed.ncbi.nlm.nih.gov/27260156/)\n",
        "\n",
        "- [Traver Hart and Jason Moffat. BAGEL: a computational framework for identifying essential genes from pooled library screens. BMC Bioinformatics, 2016 vol. 17 p. 164.](https://genomemedicine.biomedcentral.com/articles/10.1186/s13073-020-00809-3)\n",
        "\n",
        "- [Aregger, M., Chandrashekhar, M., Tong, A.H.Y., Chan, K., Moffat, J. (2019). Pooled Lentiviral CRISPR-Cas9 Screens for Functional Genomics in Mammalian Cells. In: Singh, S., Venugopal, C. (eds) Brain Tumor Stem Cells. Methods in Molecular Biology, vol 1869. Humana Press, New York, NY.](https://link.springer.com/protocol/10.1007/978-1-4939-8805-1_15)\n",
        "\n",
        "- [Joung, J., Konermann, S., Gootenberg, J. et al. Genome-scale CRISPR-Cas9 knockout and transcriptional activation screening. Nat Protoc 12, 828–863 (2017).](https://www.nature.com/articles/nprot.2017.016)\n",
        "\n",
        "- [Imkeller, K., Ambrosi, G., Boutros, M. et al. gscreend: modelling asymmetric count ratios in CRISPR screens to decrease experiment size and improve phenotype detection. Genome Biol 21, 53 (2020).](https://genomebiology.biomedcentral.com/articles/10.1186/s13059-020-1939-1)\n",
        "\n",
        "- [Li, W., Xu, H., Xiao, T. et al. MAGeCK enables robust identification of essential genes from genome-scale CRISPR/Cas9 knockout screens](https://genomebiology.biomedcentral.com/articles/10.1186/s13059-014-0554-4)"
      ]
    },
    {
      "cell_type": "code",
      "source": [],
      "metadata": {
        "id": "SVbW_0K2KXvw"
      },
      "id": "SVbW_0K2KXvw",
      "execution_count": null,
      "outputs": []
    }
  ],
  "metadata": {
    "colab": {
      "provenance": [],
      "toc_visible": true,
      "include_colab_link": true
    },
    "kernelspec": {
      "display_name": "Python 3",
      "name": "python3"
    },
    "language_info": {
      "name": "python"
    }
  },
  "nbformat": 4,
  "nbformat_minor": 5
}
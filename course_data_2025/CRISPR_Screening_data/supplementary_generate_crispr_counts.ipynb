{
  "cells": [
    {
      "cell_type": "markdown",
      "metadata": {
        "id": "view-in-github",
        "colab_type": "text"
      },
      "source": [
        "<a href=\"https://colab.research.google.com/github/WCSCourses/CRISPR_informatics_2025/blob/2025_updates/course_data_2025/CRISPR_Screening_data/supplementary_generate_crispr_counts.ipynb\" target=\"_parent\"><img src=\"https://colab.research.google.com/assets/colab-badge.svg\" alt=\"Open In Colab\"/></a>"
      ]
    },
    {
      "cell_type": "markdown",
      "id": "b35fed40-b3ed-44d9-ab2f-7ab080d9b881",
      "metadata": {
        "tags": [],
        "id": "b35fed40-b3ed-44d9-ab2f-7ab080d9b881"
      },
      "source": [
        "# Generating Guide Counts from raw sequencing data\n",
        "\n",
        "In this notebook we will retrieve raw seqeuncing data using from a publically available we can now try converting reads to counts. For this task, we'll be using `SRATOOLS` for obtaining the reads and `MAGECK` for generating counts\n",
        "`LUCA` can take a CRAM, BAM or FASTQ file and generate counts for single-guide CRISPR screens. These include single-guide, paired-guide, screens using alternative Cas systems etc.\n",
        "\n",
        "We can get ready for counting by loading the `luca` into our session with:"
      ]
    },
    {
      "cell_type": "code",
      "execution_count": 1,
      "id": "c979e729-2795-4de5-a4de-0df2c84d6d97",
      "metadata": {
        "colab": {
          "base_uri": "https://localhost:8080/"
        },
        "id": "c979e729-2795-4de5-a4de-0df2c84d6d97",
        "outputId": "6f3dd1d9-d0de-45b1-c12d-654778432494"
      },
      "outputs": [
        {
          "output_type": "stream",
          "name": "stdout",
          "text": [
            "⏬ Downloading https://github.com/jaimergp/miniforge/releases/download/24.11.2-1_colab/Miniforge3-colab-24.11.2-1_colab-Linux-x86_64.sh...\n",
            "📦 Installing...\n",
            "📌 Adjusting configuration...\n",
            "🩹 Patching environment...\n",
            "⏲ Done in 0:00:14\n",
            "🔁 Restarting kernel...\n"
          ]
        }
      ],
      "source": [
        "!pip install -q condacolab\n",
        "import condacolab\n",
        "condacolab.install()"
      ]
    },
    {
      "cell_type": "markdown",
      "id": "e5aadd38-5f82-4cf4-b050-544e75da9531",
      "metadata": {
        "id": "e5aadd38-5f82-4cf4-b050-544e75da9531"
      },
      "source": [
        "To confirm you have the tool available, and to get some info on how it works, you can run the command with a help flag (`--help`). If you execute the following code section, you should see a `Usage:` message and lots of options for the tool."
      ]
    },
    {
      "cell_type": "markdown",
      "source": [
        "!conda install"
      ],
      "metadata": {
        "id": "Rmyvl6iH_vmi"
      },
      "id": "Rmyvl6iH_vmi"
    },
    {
      "cell_type": "code",
      "execution_count": 41,
      "id": "a66117bb-be60-47cc-918e-70c6cf70e35a",
      "metadata": {
        "tags": [],
        "colab": {
          "base_uri": "https://localhost:8080/"
        },
        "collapsed": true,
        "id": "a66117bb-be60-47cc-918e-70c6cf70e35a",
        "outputId": "b7e7d9ad-5557-45ea-8c50-fc70545f7e20"
      },
      "outputs": [
        {
          "output_type": "stream",
          "name": "stdout",
          "text": [
            "Channels:\n",
            " - conda-forge\n",
            " - bioconda\n",
            "Platform: linux-64\n",
            "Collecting package metadata (repodata.json): - \b\b\\ \b\b| \b\b/ \b\b- \b\b\\ \b\b| \b\b/ \b\b- \b\b\\ \b\b| \b\b/ \b\b- \b\b\\ \b\b| \b\b/ \b\b- \b\b\\ \b\b| \b\b/ \b\b- \b\b\\ \b\b| \b\b/ \b\b- \b\b\\ \b\b| \b\b/ \b\b- \b\b\\ \b\b| \b\b/ \b\b- \b\b\\ \b\b| \b\b/ \b\b- \b\b\\ \b\b| \b\b/ \b\b- \b\b\\ \b\b| \b\b/ \b\b- \b\b\\ \b\b| \b\b/ \b\b- \b\b\\ \b\b| \b\b/ \b\b- \b\b\\ \b\b| \b\b/ \b\bdone\n",
            "Solving environment: \\ \b\b| \b\b/ \b\b- \b\b\\ \b\bdone\n",
            "\n",
            "\n",
            "==> WARNING: A newer version of conda exists. <==\n",
            "    current version: 24.11.3\n",
            "    latest version: 25.5.1\n",
            "\n",
            "Please update conda by running\n",
            "\n",
            "    $ conda update -n base -c conda-forge conda\n",
            "\n",
            "\n",
            "\n",
            "## Package Plan ##\n",
            "\n",
            "  environment location: /usr/local\n",
            "\n",
            "  added / updated specs:\n",
            "    - bioconda::samtools\n",
            "    - bioconda::sra-tools\n",
            "\n",
            "\n",
            "The following packages will be downloaded:\n",
            "\n",
            "    package                    |            build\n",
            "    ---------------------------|-----------------\n",
            "    curl-8.14.1                |       h332b0f4_0         176 KB  conda-forge\n",
            "    htslib-1.22                |       h566b1c6_0         3.1 MB  bioconda\n",
            "    libcurl-8.14.1             |       h332b0f4_0         439 KB  conda-forge\n",
            "    libdeflate-1.24            |       h86f0d12_0          71 KB  conda-forge\n",
            "    liblzma-5.8.1              |       hb9d3cd8_2         110 KB  conda-forge\n",
            "    samtools-1.22              |       h96c455f_0         490 KB  bioconda\n",
            "    zstandard-0.23.0           |  py311h9ecbd09_2         715 KB  conda-forge\n",
            "    zstd-1.5.7                 |       hb8e6e7a_2         554 KB  conda-forge\n",
            "    ------------------------------------------------------------\n",
            "                                           Total:         5.6 MB\n",
            "\n",
            "The following NEW packages will be INSTALLED:\n",
            "\n",
            "  htslib             bioconda/linux-64::htslib-1.22-h566b1c6_0 \n",
            "  libdeflate         conda-forge/linux-64::libdeflate-1.24-h86f0d12_0 \n",
            "  samtools           bioconda/linux-64::samtools-1.22-h96c455f_0 \n",
            "\n",
            "The following packages will be UPDATED:\n",
            "\n",
            "  curl                                    8.11.1-h332b0f4_0 --> 8.14.1-h332b0f4_0 \n",
            "  libcurl                                 8.11.1-h332b0f4_0 --> 8.14.1-h332b0f4_0 \n",
            "  liblzma                                  5.6.3-hb9d3cd8_1 --> 5.8.1-hb9d3cd8_2 \n",
            "  zstandard                          0.23.0-py311hbc35293_1 --> 0.23.0-py311h9ecbd09_2 \n",
            "  zstd                                     1.5.6-ha6fb4c9_0 --> 1.5.7-hb8e6e7a_2 \n",
            "\n",
            "\n",
            "\n",
            "Downloading and Extracting Packages:\n",
            "htslib-1.22          | 3.1 MB    | :   0% 0/1 [00:00<?, ?it/s]\n",
            "zstandard-0.23.0     | 715 KB    | :   0% 0/1 [00:00<?, ?it/s]\u001b[A\n",
            "\n",
            "zstd-1.5.7           | 554 KB    | :   0% 0/1 [00:00<?, ?it/s]\u001b[A\u001b[A\n",
            "\n",
            "\n",
            "samtools-1.22        | 490 KB    | :   0% 0/1 [00:00<?, ?it/s]\u001b[A\u001b[A\u001b[A\n",
            "\n",
            "\n",
            "\n",
            "libcurl-8.14.1       | 439 KB    | :   0% 0/1 [00:00<?, ?it/s]\u001b[A\u001b[A\u001b[A\u001b[A\n",
            "\n",
            "\n",
            "\n",
            "\n",
            "curl-8.14.1          | 176 KB    | :   0% 0/1 [00:00<?, ?it/s]\u001b[A\u001b[A\u001b[A\u001b[A\u001b[A\n",
            "\n",
            "\n",
            "\n",
            "\n",
            "\n",
            "liblzma-5.8.1        | 110 KB    | :   0% 0/1 [00:00<?, ?it/s]\u001b[A\u001b[A\u001b[A\u001b[A\u001b[A\u001b[A\n",
            "\n",
            "\n",
            "\n",
            "\n",
            "\n",
            "\n",
            "htslib-1.22          | 3.1 MB    | :   1% 0.010110631312780685/1 [00:00<00:10, 10.75s/it]\n",
            "\n",
            "\n",
            "samtools-1.22        | 490 KB    | :   3% 0.03262568675437741/1 [00:00<00:03,  3.89s/it]\u001b[A\u001b[A\u001b[A\n",
            "\n",
            "\n",
            "\n",
            "libcurl-8.14.1       | 439 KB    | :   4% 0.03641617212331355/1 [00:00<00:03,  3.94s/it]\u001b[A\u001b[A\u001b[A\u001b[A\n",
            "zstandard-0.23.0     | 715 KB    | :   2% 0.022386091766033643/1 [00:00<00:07,  7.51s/it]\u001b[A\n",
            "\n",
            "\n",
            "samtools-1.22        | 490 KB    | : 100% 1.0/1 [00:00<00:00,  3.89s/it]                \u001b[A\u001b[A\u001b[A\n",
            "\n",
            "\n",
            "\n",
            "libcurl-8.14.1       | 439 KB    | : 100% 1.0/1 [00:00<00:00,  3.94s/it]                \u001b[A\u001b[A\u001b[A\u001b[A\n",
            "\n",
            "zstd-1.5.7           | 554 KB    | :   3% 0.02886651702497278/1 [00:00<00:06,  7.10s/it]\u001b[A\u001b[A\n",
            "htslib-1.22          | 3.1 MB    | : 100% 1.0/1 [00:00<00:00,  4.78it/s]\n",
            "\n",
            "\n",
            "\n",
            "\n",
            "\n",
            "liblzma-5.8.1        | 110 KB    | :  15% 0.1451272875440679/1 [00:00<00:01,  1.68s/it]\u001b[A\u001b[A\u001b[A\u001b[A\u001b[A\u001b[A\n",
            "\n",
            "\n",
            "\n",
            "\n",
            "curl-8.14.1          | 176 KB    | :   9% 0.0908536382490268/1 [00:00<00:02,  2.76s/it]\u001b[A\u001b[A\u001b[A\u001b[A\u001b[A\n",
            "\n",
            "\n",
            "\n",
            "\n",
            "\n",
            "liblzma-5.8.1        | 110 KB    | : 100% 1.0/1 [00:00<00:00,  1.68s/it]               \u001b[A\u001b[A\u001b[A\u001b[A\u001b[A\u001b[A\n",
            "\n",
            "\n",
            "\n",
            "\n",
            "curl-8.14.1          | 176 KB    | : 100% 1.0/1 [00:00<00:00,  2.76s/it]               \u001b[A\u001b[A\u001b[A\u001b[A\u001b[A\n",
            "\n",
            "zstd-1.5.7           | 554 KB    | : 100% 1.0/1 [00:00<00:00,  7.10s/it]                \u001b[A\u001b[A\n",
            "\n",
            "\n",
            "\n",
            "libcurl-8.14.1       | 439 KB    | : 100% 1.0/1 [00:00<00:00,  4.14it/s]\u001b[A\u001b[A\u001b[A\u001b[A\n",
            "\n",
            "\n",
            "\n",
            "libcurl-8.14.1       | 439 KB    | : 100% 1.0/1 [00:00<00:00,  4.14it/s]\u001b[A\u001b[A\u001b[A\u001b[A\n",
            "zstandard-0.23.0     | 715 KB    | : 100% 1.0/1 [00:00<00:00,  3.47it/s]\u001b[A\n",
            "zstandard-0.23.0     | 715 KB    | : 100% 1.0/1 [00:00<00:00,  3.47it/s]\u001b[A\n",
            "\n",
            "\n",
            "\n",
            "\n",
            "\n",
            "\n",
            "libdeflate-1.24      | 71 KB     | :  23% 0.2257588910476348/1 [00:00<00:01,  1.46s/it]\u001b[A\u001b[A\u001b[A\u001b[A\u001b[A\u001b[A\u001b[A\n",
            "\n",
            "\n",
            "\n",
            "\n",
            "\n",
            "\n",
            "libdeflate-1.24      | 71 KB     | : 100% 1.0/1 [00:00<00:00,  1.46s/it]               \u001b[A\u001b[A\u001b[A\u001b[A\u001b[A\u001b[A\u001b[A\n",
            "\n",
            "\n",
            "samtools-1.22        | 490 KB    | : 100% 1.0/1 [00:00<00:00,  2.09it/s]\u001b[A\u001b[A\u001b[A\n",
            "\n",
            "\n",
            "samtools-1.22        | 490 KB    | : 100% 1.0/1 [00:00<00:00,  2.09it/s]\u001b[A\u001b[A\u001b[A\n",
            "\n",
            "\n",
            "\n",
            "\n",
            "\n",
            "liblzma-5.8.1        | 110 KB    | : 100% 1.0/1 [00:00<00:00,  2.12it/s]\u001b[A\u001b[A\u001b[A\u001b[A\u001b[A\u001b[A\n",
            "\n",
            "\n",
            "\n",
            "\n",
            "\n",
            "liblzma-5.8.1        | 110 KB    | : 100% 1.0/1 [00:00<00:00,  2.12it/s]\u001b[A\u001b[A\u001b[A\u001b[A\u001b[A\u001b[A\n",
            "\n",
            "\n",
            "\n",
            "\n",
            "curl-8.14.1          | 176 KB    | : 100% 1.0/1 [00:00<00:00,  2.10it/s]\u001b[A\u001b[A\u001b[A\u001b[A\u001b[A\n",
            "\n",
            "\n",
            "\n",
            "\n",
            "curl-8.14.1          | 176 KB    | : 100% 1.0/1 [00:00<00:00,  2.10it/s]\u001b[A\u001b[A\u001b[A\u001b[A\u001b[A\n",
            "\n",
            "zstd-1.5.7           | 554 KB    | : 100% 1.0/1 [00:00<00:00,  1.88it/s]\u001b[A\u001b[A\n",
            "\n",
            "zstd-1.5.7           | 554 KB    | : 100% 1.0/1 [00:00<00:00,  1.88it/s]\u001b[A\u001b[A\n",
            "\n",
            "\n",
            "\n",
            "\n",
            "\n",
            "\n",
            "libdeflate-1.24      | 71 KB     | : 100% 1.0/1 [00:00<00:00,  1.86it/s]\u001b[A\u001b[A\u001b[A\u001b[A\u001b[A\u001b[A\u001b[A\n",
            "\n",
            "\n",
            "\n",
            "\n",
            "\n",
            "\n",
            "                                                                        \n",
            "                                                                        \u001b[A\n",
            "\n",
            "                                                                        \u001b[A\u001b[A\n",
            "\n",
            "\n",
            "                                                                        \u001b[A\u001b[A\u001b[A\n",
            "\n",
            "\n",
            "\n",
            "                                                                        \u001b[A\u001b[A\u001b[A\u001b[A\n",
            "\n",
            "\n",
            "\n",
            "\n",
            "                                                                        \u001b[A\u001b[A\u001b[A\u001b[A\u001b[A\n",
            "\n",
            "\n",
            "\n",
            "\n",
            "\n",
            "                                                                        \u001b[A\u001b[A\u001b[A\u001b[A\u001b[A\u001b[A\n",
            "\n",
            "\n",
            "\n",
            "\n",
            "\n",
            "\n",
            "                                                                        \u001b[A\u001b[A\u001b[A\u001b[A\u001b[A\u001b[A\u001b[A\n",
            "Preparing transaction: - \b\bdone\n",
            "Verifying transaction: | \b\b/ \b\b- \b\bdone\n",
            "Executing transaction: | \b\bdone\n"
          ]
        }
      ],
      "source": [
        "!conda install bioconda::sra-tools bioconda::samtools"
      ]
    },
    {
      "cell_type": "code",
      "source": [
        "%load_ext rpy2.ipython\n"
      ],
      "metadata": {
        "id": "b_w9XifU9aMC"
      },
      "id": "b_w9XifU9aMC",
      "execution_count": 29,
      "outputs": []
    },
    {
      "cell_type": "code",
      "source": [
        "%%R\n",
        "library(readr)\n",
        "library(dplyr)\n",
        "\n",
        "\n",
        "read_tsv(\"/content/LUCA/broadgpp-dolcetto-targets-setb.txt\") |>\n",
        "mutate(id = paste0(`Annotated Gene Symbol`, \":\", `Annotated Gene ID`)) |>\n",
        "dplyr::rename(\"sequence\" = \"Barcode Sequence\") |>\n",
        "select(id, sequence) |>\n",
        "write_tsv(\"guide_library.tsv\")"
      ],
      "metadata": {
        "id": "Lb4snXub9wCr",
        "outputId": "9c047374-0425-483c-a239-934cdce2260c",
        "colab": {
          "base_uri": "https://localhost:8080/"
        }
      },
      "id": "Lb4snXub9wCr",
      "execution_count": 34,
      "outputs": [
        {
          "output_type": "stream",
          "name": "stdout",
          "text": [
            "Rows: 57011 Columns: 3\n",
            "── Column specification ────────────────────────────────────────────────────────\n",
            "Delimiter: \"\\t\"\n",
            "chr (3): Barcode Sequence, Annotated Gene Symbol, Annotated Gene ID\n",
            "\n",
            "ℹ Use `spec()` to retrieve the full column specification for this data.\n",
            "ℹ Specify the column types or set `show_col_types = FALSE` to quiet this message.\n"
          ]
        }
      ]
    },
    {
      "cell_type": "markdown",
      "source": [],
      "metadata": {
        "id": "BQnCypyG9vw_"
      },
      "id": "BQnCypyG9vw_"
    },
    {
      "cell_type": "code",
      "source": [
        "!fasterq-dump SRR8293875"
      ],
      "metadata": {
        "colab": {
          "base_uri": "https://localhost:8080/"
        },
        "id": "hQisoqNmSP81",
        "outputId": "a65a9e26-91aa-40a8-ae61-0ecb463112ed"
      },
      "id": "hQisoqNmSP81",
      "execution_count": 1,
      "outputs": [
        {
          "output_type": "stream",
          "name": "stdout",
          "text": [
            "spots read      : 73,227,278\n",
            "reads read      : 73,227,278\n",
            "reads written   : 73,227,278\n"
          ]
        }
      ]
    },
    {
      "cell_type": "code",
      "source": [
        "!head SRR8293875.fastq"
      ],
      "metadata": {
        "colab": {
          "base_uri": "https://localhost:8080/"
        },
        "id": "bajlsxz7S1Pa",
        "outputId": "79b3549b-1a1e-476e-e4cc-ea371d16b387"
      },
      "id": "bajlsxz7S1Pa",
      "execution_count": 2,
      "outputs": [
        {
          "output_type": "stream",
          "name": "stdout",
          "text": [
            "@SRR8293875.1 D00212:CB21JANXX170514:CB21JANXX:3:1101:10000:13155 length=50\n",
            "GAAGACCCTTGTGGAAAGGACGAAACACCGAGCGCGGACAGCATCCCGCC\n",
            "+SRR8293875.1 D00212:CB21JANXX170514:CB21JANXX:3:1101:10000:13155 length=50\n",
            "BBBBBFFFFFFFFFFFFFFFFFFFFFFFFFFFFFFFFFFFFFFFFFFFFF\n",
            "@SRR8293875.2 D00212:CB21JANXX170514:CB21JANXX:3:1101:10000:13984 length=50\n",
            "TGCACCTTGTGGAAAGGACGAAACACCGTTCTGAGCAGCAGTTCTGCCGT\n",
            "+SRR8293875.2 D00212:CB21JANXX170514:CB21JANXX:3:1101:10000:13984 length=50\n",
            "BBBBBFFFFFFFFFFFFFFFFFFFFFFFFFFFFFFFFFFFFFFFFFFFFF\n",
            "@SRR8293875.3 D00212:CB21JANXX170514:CB21JANXX:3:1101:10000:17994 length=50\n",
            "AGCTTGTGGAAAGGACGAAACACCGTGTGCGCAAAGTGTGCGGCCGTTTC\n"
          ]
        }
      ]
    },
    {
      "cell_type": "code",
      "source": [
        "!git clone https://github.com/cancerit/LUCA.git\n",
        "!cd ./LUCA\n",
        "!python -m venv .venv\n",
        "\n",
        "# Activate the virtual environment\n",
        "!source .venv/bin/activate"
      ],
      "metadata": {
        "colab": {
          "base_uri": "https://localhost:8080/"
        },
        "id": "zW8sKLLn46Zp",
        "outputId": "a0eb314d-9a90-4639-d6b5-17a9d81f14e6"
      },
      "id": "zW8sKLLn46Zp",
      "execution_count": 10,
      "outputs": [
        {
          "output_type": "stream",
          "name": "stdout",
          "text": [
            "fatal: destination path 'LUCA' already exists and is not an empty directory.\n"
          ]
        }
      ]
    },
    {
      "cell_type": "code",
      "source": [
        "!cd LUCA\n",
        "# Install the luca package\n",
        "!pip install ."
      ],
      "metadata": {
        "colab": {
          "base_uri": "https://localhost:8080/"
        },
        "id": "kuF6s4Om6Qbd",
        "outputId": "aee471ed-483f-400b-c15b-f972a7b4d2bc"
      },
      "id": "kuF6s4Om6Qbd",
      "execution_count": 14,
      "outputs": [
        {
          "output_type": "stream",
          "name": "stdout",
          "text": [
            "/bin/bash: line 1: cd: LUCA: No such file or directory\n",
            "Processing /content/LUCA\n",
            "  Installing build dependencies ... \u001b[?25l\u001b[?25hdone\n",
            "  Getting requirements to build wheel ... \u001b[?25l\u001b[?25hdone\n",
            "  Preparing metadata (pyproject.toml) ... \u001b[?25l\u001b[?25hdone\n",
            "Collecting click (from luca==1.0.1)\n",
            "  Downloading click-8.2.1-py3-none-any.whl.metadata (2.5 kB)\n",
            "Collecting click-option-group (from luca==1.0.1)\n",
            "  Downloading click_option_group-0.5.7-py3-none-any.whl.metadata (5.8 kB)\n",
            "Requirement already satisfied: numpy in /usr/local/lib/python3.11/site-packages (from luca==1.0.1) (2.3.1)\n",
            "Collecting pydantic (from luca==1.0.1)\n",
            "  Downloading pydantic-2.11.7-py3-none-any.whl.metadata (67 kB)\n",
            "Collecting pysam (from luca==1.0.1)\n",
            "  Downloading pysam-0.23.3-cp311-cp311-manylinux_2_28_x86_64.whl.metadata (1.7 kB)\n",
            "Collecting python-magic (from luca==1.0.1)\n",
            "  Downloading python_magic-0.4.27-py2.py3-none-any.whl.metadata (5.8 kB)\n",
            "Collecting pyyaml (from luca==1.0.1)\n",
            "  Downloading PyYAML-6.0.2-cp311-cp311-manylinux_2_17_x86_64.manylinux2014_x86_64.whl.metadata (2.1 kB)\n",
            "Collecting annotated-types>=0.6.0 (from pydantic->luca==1.0.1)\n",
            "  Downloading annotated_types-0.7.0-py3-none-any.whl.metadata (15 kB)\n",
            "Collecting pydantic-core==2.33.2 (from pydantic->luca==1.0.1)\n",
            "  Downloading pydantic_core-2.33.2-cp311-cp311-manylinux_2_17_x86_64.manylinux2014_x86_64.whl.metadata (6.8 kB)\n",
            "Requirement already satisfied: typing-extensions>=4.12.2 in /usr/local/lib/python3.11/site-packages (from pydantic->luca==1.0.1) (4.14.1)\n",
            "Collecting typing-inspection>=0.4.0 (from pydantic->luca==1.0.1)\n",
            "  Downloading typing_inspection-0.4.1-py3-none-any.whl.metadata (2.6 kB)\n",
            "Downloading click-8.2.1-py3-none-any.whl (102 kB)\n",
            "Downloading click_option_group-0.5.7-py3-none-any.whl (11 kB)\n",
            "Downloading pydantic-2.11.7-py3-none-any.whl (444 kB)\n",
            "Downloading pydantic_core-2.33.2-cp311-cp311-manylinux_2_17_x86_64.manylinux2014_x86_64.whl (2.0 MB)\n",
            "\u001b[2K   \u001b[90m━━━━━━━━━━━━━━━━━━━━━━━━━━━━━━━━━━━━━━━━\u001b[0m \u001b[32m2.0/2.0 MB\u001b[0m \u001b[31m36.9 MB/s\u001b[0m eta \u001b[36m0:00:00\u001b[0m\n",
            "\u001b[?25hDownloading pysam-0.23.3-cp311-cp311-manylinux_2_28_x86_64.whl (26.5 MB)\n",
            "\u001b[2K   \u001b[90m━━━━━━━━━━━━━━━━━━━━━━━━━━━━━━━━━━━━━━━━\u001b[0m \u001b[32m26.5/26.5 MB\u001b[0m \u001b[31m118.0 MB/s\u001b[0m eta \u001b[36m0:00:00\u001b[0m\n",
            "\u001b[?25hDownloading python_magic-0.4.27-py2.py3-none-any.whl (13 kB)\n",
            "Downloading PyYAML-6.0.2-cp311-cp311-manylinux_2_17_x86_64.manylinux2014_x86_64.whl (762 kB)\n",
            "\u001b[2K   \u001b[90m━━━━━━━━━━━━━━━━━━━━━━━━━━━━━━━━━━━━━━━━\u001b[0m \u001b[32m763.0/763.0 kB\u001b[0m \u001b[31m26.1 MB/s\u001b[0m eta \u001b[36m0:00:00\u001b[0m\n",
            "\u001b[?25hDownloading annotated_types-0.7.0-py3-none-any.whl (13 kB)\n",
            "Downloading typing_inspection-0.4.1-py3-none-any.whl (14 kB)\n",
            "Building wheels for collected packages: luca\n",
            "  Building wheel for luca (pyproject.toml) ... \u001b[?25l\u001b[?25hdone\n",
            "  Created wheel for luca: filename=luca-1.0.1-py3-none-any.whl size=69689 sha256=e76b3933672024746de72da1d2211febba92f57b0a076b5aa0ced614657bf560\n",
            "  Stored in directory: /tmp/pip-ephem-wheel-cache-lvfwulq2/wheels/81/d6/3a/6b9a6f96ab45663191d45f8164ff189d730bc83670c119f017\n",
            "Successfully built luca\n",
            "Installing collected packages: typing-inspection, pyyaml, python-magic, pysam, pydantic-core, click, annotated-types, pydantic, click-option-group, luca\n",
            "Successfully installed annotated-types-0.7.0 click-8.2.1 click-option-group-0.5.7 luca-1.0.1 pydantic-2.11.7 pydantic-core-2.33.2 pysam-0.23.3 python-magic-0.4.27 pyyaml-6.0.2 typing-inspection-0.4.1\n"
          ]
        }
      ]
    },
    {
      "cell_type": "code",
      "source": [
        "!luca count /content/LUCA/guide_library.tsv"
      ],
      "metadata": {
        "colab": {
          "base_uri": "https://localhost:8080/"
        },
        "id": "R4h8tmHR6f3R",
        "outputId": "bdd20f7d-44bc-486f-9304-7d4d9778a27e"
      },
      "id": "R4h8tmHR6f3R",
      "execution_count": 15,
      "outputs": [
        {
          "output_type": "stream",
          "name": "stdout",
          "text": [
            "Usage: luca [OPTIONS] COMMAND [ARGS]...\n",
            "\n",
            "Options:\n",
            "  --version  Show the version and exit.\n",
            "  --help     Show this message and exit.\n",
            "\n",
            "Commands:\n",
            "  count  Count reads or regions, optionally matching libraries.\n",
            "  merge  Merge counts across different runs and regenerate the statistics.\n"
          ]
        }
      ]
    },
    {
      "cell_type": "code",
      "source": [
        "!wget https://media.addgene.org/cms/filer_public/6c/51/6c510ea5-f3e2-4b6e-824e-913157682b73/broadgpp-dolcetto-targets-setb.txt"
      ],
      "metadata": {
        "colab": {
          "base_uri": "https://localhost:8080/"
        },
        "id": "bt3LWimS6h98",
        "outputId": "8d4d16c9-daa8-4573-d603-d60918f96554"
      },
      "id": "bt3LWimS6h98",
      "execution_count": 16,
      "outputs": [
        {
          "output_type": "stream",
          "name": "stdout",
          "text": [
            "--2025-07-12 13:54:13--  https://media.addgene.org/cms/filer_public/6c/51/6c510ea5-f3e2-4b6e-824e-913157682b73/broadgpp-dolcetto-targets-setb.txt\n",
            "Resolving media.addgene.org (media.addgene.org)... 172.66.43.190, 172.66.40.66, 2606:4700:3108::ac42:2842, ...\n",
            "Connecting to media.addgene.org (media.addgene.org)|172.66.43.190|:443... connected.\n",
            "HTTP request sent, awaiting response... 200 OK\n",
            "Length: 1910373 (1.8M) [text/plain]\n",
            "Saving to: ‘broadgpp-dolcetto-targets-setb.txt’\n",
            "\n",
            "broadgpp-dolcetto-t 100%[===================>]   1.82M  --.-KB/s    in 0.06s   \n",
            "\n",
            "2025-07-12 13:54:13 (29.8 MB/s) - ‘broadgpp-dolcetto-targets-setb.txt’ saved [1910373/1910373]\n",
            "\n"
          ]
        }
      ]
    },
    {
      "cell_type": "code",
      "source": [
        "!head broadgpp-dolcetto-targets-setb.txt"
      ],
      "metadata": {
        "colab": {
          "base_uri": "https://localhost:8080/"
        },
        "id": "bQJCNEdr7uRw",
        "outputId": "7cfa38b4-146a-44d6-93e0-644579b97056"
      },
      "id": "bQJCNEdr7uRw",
      "execution_count": 21,
      "outputs": [
        {
          "output_type": "stream",
          "name": "stdout",
          "text": [
            "Barcode Sequence\tAnnotated Gene Symbol\tAnnotated Gene ID\n",
            "AAAAAAAAAATTTCCTAGCG\tSMARCAD1\t56916\n",
            "AAAAAAAAAGCTGTGCGCAG\tLOC100129112\t100129112\n",
            "AAAAAAAACTGTCCCGCAAC\tMAP1LC3C\t440738\n",
            "AAAAAAAAGTGGTGGGGTGG\tLRRC70\t100130733\n",
            "AAAAAAAGAAAGAAACACAA\tLRRC19\t64922\n",
            "AAAAAAAGAAGCCACCGGAG\tHMGA1\t3159\n",
            "AAAAAAAGCAAAGAAAACTT\tBCL11B\t64919\n",
            "AAAAAAAGGGAAAAAACCCG\tIGF1R\t3480\n",
            "AAAAAACAACGAACTCCATC\tHAO1\t54363\n"
          ]
        }
      ]
    },
    {
      "cell_type": "code",
      "source": [
        "!head SRR8293875_mini.fastq"
      ],
      "metadata": {
        "colab": {
          "base_uri": "https://localhost:8080/"
        },
        "id": "x5T95Tf273_L",
        "outputId": "d0fd405a-aada-408a-9cfb-5268b49e8fc6"
      },
      "id": "x5T95Tf273_L",
      "execution_count": 23,
      "outputs": [
        {
          "output_type": "stream",
          "name": "stdout",
          "text": [
            "@SRR8293875.1 D00212:CB21JANXX170514:CB21JANXX:3:1101:10000:13155 length=50\n",
            "GAAGACCCTTGTGGAAAGGACGAAACACCGAGCGCGGACAGCATCCCGCC\n",
            "+SRR8293875.1 D00212:CB21JANXX170514:CB21JANXX:3:1101:10000:13155 length=50\n",
            "BBBBBFFFFFFFFFFFFFFFFFFFFFFFFFFFFFFFFFFFFFFFFFFFFF\n",
            "@SRR8293875.2 D00212:CB21JANXX170514:CB21JANXX:3:1101:10000:13984 length=50\n",
            "TGCACCTTGTGGAAAGGACGAAACACCGTTCTGAGCAGCAGTTCTGCCGT\n",
            "+SRR8293875.2 D00212:CB21JANXX170514:CB21JANXX:3:1101:10000:13984 length=50\n",
            "BBBBBFFFFFFFFFFFFFFFFFFFFFFFFFFFFFFFFFFFFFFFFFFFFF\n",
            "@SRR8293875.3 D00212:CB21JANXX170514:CB21JANXX:3:1101:10000:17994 length=50\n",
            "AGCTTGTGGAAAGGACGAAACACCGTGTGCGCAAAGTGTGCGGCCGTTTC\n"
          ]
        }
      ]
    },
    {
      "cell_type": "code",
      "source": [
        "!samtools import /content/SRR8293875_mini.fastq.gz -O BAM -o demo.bam"
      ],
      "metadata": {
        "id": "MVrYibQtBObo"
      },
      "id": "MVrYibQtBObo",
      "execution_count": 48,
      "outputs": []
    },
    {
      "cell_type": "code",
      "source": [],
      "metadata": {
        "id": "YLLmPV-jBdf8"
      },
      "id": "YLLmPV-jBdf8",
      "execution_count": 50,
      "outputs": []
    },
    {
      "cell_type": "code",
      "source": [],
      "metadata": {
        "id": "V3KhG0sXBQHY"
      },
      "id": "V3KhG0sXBQHY",
      "execution_count": null,
      "outputs": []
    },
    {
      "cell_type": "code",
      "source": [
        "!head /content/SRR8293875.fastq -n 1000 > SRR8293875_mini.fastq"
      ],
      "metadata": {
        "id": "yCJxHYmb6kjX"
      },
      "id": "yCJxHYmb6kjX",
      "execution_count": 22,
      "outputs": []
    },
    {
      "cell_type": "markdown",
      "id": "90f40e2b-0c15-4752-9eee-694d30f8127f",
      "metadata": {
        "id": "90f40e2b-0c15-4752-9eee-694d30f8127f"
      },
      "source": [
        "## Tool inputs\n",
        "\n",
        "Now that we have the tool ready to run counting on a sample we will we need several input files:\n",
        "\n",
        "1) A library file, describing the CRISPR guides we would like to quantify. This will be a tab-seperated file (`.tsv`) file containing two columns: one column of guide ID's and one column of guide sequences\n",
        "2) An experiment description file (written in the `.yaml` file format). This file allows us to describe simple and more complex screens using a structured but human-readable text file.\n",
        "3) A sample `.cram` (or `.fastq` file) containing sequencing reads\n",
        "4) (Required when generating counts from a `.cram` file) A copy of the reference genome file used in generating the `.cram` file\n",
        "\n",
        "\n",
        "The next few code blocks will demonstrate what each of these files should look like:"
      ]
    },
    {
      "cell_type": "markdown",
      "id": "fce47fa3",
      "metadata": {
        "id": "fce47fa3"
      },
      "source": [
        "## The CRISPR library file"
      ]
    },
    {
      "cell_type": "code",
      "execution_count": 58,
      "id": "4553b8cc-8be6-4247-a6a8-ae8744ac4c0a",
      "metadata": {
        "id": "4553b8cc-8be6-4247-a6a8-ae8744ac4c0a",
        "colab": {
          "base_uri": "https://localhost:8080/"
        },
        "outputId": "b40b404e-5edb-4bf9-ebb1-35bb0adda370"
      },
      "outputs": [
        {
          "output_type": "stream",
          "name": "stdout",
          "text": [
            "INFO: Running in library-dependent mode\n",
            "INFO: Sequence input detected as *.bam\n",
            "INFO: Processed 250 reads in 0 s\n",
            "INFO: Writing counts file: /content/LUCA/counts/lib.0.counts.tsv\n",
            "WARNING: No library matches!\n",
            "INFO: Writing statistics file: /content/LUCA/counts/lib.0.stats.json\n",
            "Traceback (most recent call last):\n",
            "  File \"/usr/local/bin/luca\", line 8, in <module>\n",
            "    sys.exit(main())\n",
            "             ^^^^^^\n",
            "  File \"/usr/local/lib/python3.11/site-packages/click/core.py\", line 1442, in __call__\n",
            "    return self.main(*args, **kwargs)\n",
            "           ^^^^^^^^^^^^^^^^^^^^^^^^^^\n",
            "  File \"/usr/local/lib/python3.11/site-packages/click/core.py\", line 1363, in main\n",
            "    rv = self.invoke(ctx)\n",
            "         ^^^^^^^^^^^^^^^^\n",
            "  File \"/usr/local/lib/python3.11/site-packages/click/core.py\", line 1830, in invoke\n",
            "    return _process_result(sub_ctx.command.invoke(sub_ctx))\n",
            "                           ^^^^^^^^^^^^^^^^^^^^^^^^^^^^^^^\n",
            "  File \"/usr/local/lib/python3.11/site-packages/click/core.py\", line 1226, in invoke\n",
            "    return ctx.invoke(self.callback, **ctx.params)\n",
            "           ^^^^^^^^^^^^^^^^^^^^^^^^^^^^^^^^^^^^^^^\n",
            "  File \"/usr/local/lib/python3.11/site-packages/click/core.py\", line 794, in invoke\n",
            "    return callback(*args, **kwargs)\n",
            "           ^^^^^^^^^^^^^^^^^^^^^^^^^\n",
            "  File \"/usr/local/lib/python3.11/site-packages/luca/cli.py\", line 50, in wrapper\n",
            "    return f(*args, **kwargs)\n",
            "           ^^^^^^^^^^^^^^^^^^\n",
            "  File \"/usr/local/lib/python3.11/site-packages/luca/cli.py\", line 65, in wrapper\n",
            "    return f(*args, **kwargs)\n",
            "           ^^^^^^^^^^^^^^^^^^\n",
            "  File \"/usr/local/lib/python3.11/site-packages/luca/count.py\", line 342, in count\n",
            "    stats, exp_stats = library_dependent_counting(exp, opt, pb, iter_reads, profile=profile)\n",
            "                       ^^^^^^^^^^^^^^^^^^^^^^^^^^^^^^^^^^^^^^^^^^^^^^^^^^^^^^^^^^^^^^^^^^^^^\n",
            "  File \"/usr/local/lib/python3.11/site-packages/luca/count.py\", line 105, in library_dependent_counting\n",
            "    stats, exp_stats = mm.match_seqs(opt, iter_reads, pb.output_dir, profile=profile)\n",
            "                       ^^^^^^^^^^^^^^^^^^^^^^^^^^^^^^^^^^^^^^^^^^^^^^^^^^^^^^^^^^^^^^\n",
            "  File \"/usr/local/lib/python3.11/site-packages/luca/matcher.py\", line 873, in match_seqs\n",
            "    json.dump(library_stats.to_dict(), fh)\n",
            "  File \"/usr/local/lib/python3.11/json/__init__.py\", line 179, in dump\n",
            "    for chunk in iterable:\n",
            "  File \"/usr/local/lib/python3.11/json/encoder.py\", line 432, in _iterencode\n",
            "    yield from _iterencode_dict(o, _current_indent_level)\n",
            "  File \"/usr/local/lib/python3.11/json/encoder.py\", line 406, in _iterencode_dict\n",
            "    yield from chunks\n",
            "  File \"/usr/local/lib/python3.11/json/encoder.py\", line 439, in _iterencode\n",
            "    o = _default(o)\n",
            "        ^^^^^^^^^^^\n",
            "  File \"/usr/local/lib/python3.11/json/encoder.py\", line 180, in default\n",
            "    raise TypeError(f'Object of type {o.__class__.__name__} '\n",
            "TypeError: Object of type int64 is not JSON serializable\n"
          ]
        }
      ],
      "source": [
        "!cd /content\n",
        "!luca count -l /content -s demo /content/dulcetto_detection.yml /content/demo.bam -o counts"
      ]
    },
    {
      "cell_type": "code",
      "source": [
        "!head /content/SRR8293875.fastq"
      ],
      "metadata": {
        "id": "nfTy52TGCzhV",
        "outputId": "349eb699-dac9-4293-91d0-433bc7bc2649",
        "colab": {
          "base_uri": "https://localhost:8080/"
        }
      },
      "id": "nfTy52TGCzhV",
      "execution_count": 57,
      "outputs": [
        {
          "output_type": "stream",
          "name": "stdout",
          "text": [
            "@SRR8293875.1 D00212:CB21JANXX170514:CB21JANXX:3:1101:10000:13155 length=50\n",
            "GAAGACCCTTGTGGAAAGGACGAAACACCGAGCGCGGACAGCATCCCGCC\n",
            "+SRR8293875.1 D00212:CB21JANXX170514:CB21JANXX:3:1101:10000:13155 length=50\n",
            "BBBBBFFFFFFFFFFFFFFFFFFFFFFFFFFFFFFFFFFFFFFFFFFFFF\n",
            "@SRR8293875.2 D00212:CB21JANXX170514:CB21JANXX:3:1101:10000:13984 length=50\n",
            "TGCACCTTGTGGAAAGGACGAAACACCGTTCTGAGCAGCAGTTCTGCCGT\n",
            "+SRR8293875.2 D00212:CB21JANXX170514:CB21JANXX:3:1101:10000:13984 length=50\n",
            "BBBBBFFFFFFFFFFFFFFFFFFFFFFFFFFFFFFFFFFFFFFFFFFFFF\n",
            "@SRR8293875.3 D00212:CB21JANXX170514:CB21JANXX:3:1101:10000:17994 length=50\n",
            "AGCTTGTGGAAAGGACGAAACACCGTGTGCGCAAAGTGTGCGGCCGTTTC\n"
          ]
        }
      ]
    },
    {
      "cell_type": "markdown",
      "id": "e2549cf5",
      "metadata": {
        "id": "e2549cf5"
      },
      "source": [
        "## The experimental description file\n",
        "\n",
        "Yaml files are commonly used for configuring computational tools. This file contains a lot of \"boilerplate\" code - which is necessary for the tool to be flexible but there are really only a few things we need to worry about when conducting a simple screen.\n",
        "\n",
        "The key attibutes we define in the yaml are what kind of seqeuncing run we performed (`single-end`) and which CRISPR library we want to generate counts from. If we had run a paired-end sequencing run or a dual-guide experiment we would have to describe that experiment differently.\n",
        "\n",
        "Note: lines starting with `#` are ingored by the tool and are purely descriptive.\n"
      ]
    },
    {
      "cell_type": "code",
      "execution_count": 18,
      "id": "3993259c-e8ae-49aa-9453-fd4ce626d547",
      "metadata": {
        "tags": [],
        "id": "3993259c-e8ae-49aa-9453-fd4ce626d547",
        "colab": {
          "base_uri": "https://localhost:8080/"
        },
        "outputId": "e102ab98-2cd6-413c-cc38-e2891fe11e50"
      },
      "outputs": [
        {
          "output_type": "stream",
          "name": "stdout",
          "text": [
            "cat: experiment.yaml: No such file or directory\n"
          ]
        }
      ],
      "source": [
        "cat experiment.yaml"
      ]
    },
    {
      "cell_type": "markdown",
      "id": "7761e4e1",
      "metadata": {
        "vscode": {
          "languageId": "plaintext"
        },
        "id": "7761e4e1"
      },
      "source": [
        "## Generating counts\n",
        "\n",
        "With our inputs defined, we can run the counting tool like so:\n"
      ]
    },
    {
      "cell_type": "code",
      "execution_count": null,
      "id": "c26202f9",
      "metadata": {
        "vscode": {
          "languageId": "plaintext"
        },
        "id": "c26202f9"
      },
      "outputs": [],
      "source": [
        "mkdir output_dir\n",
        "\n",
        "luca \\\n",
        "-o output_dir \\\n",
        "-l libraries \\\n",
        "experiment.yaml \\\n",
        "--count-mm-reads \\\n",
        "--sort-mm-read-counts \\\n",
        "-c 4 \\\n",
        "test/merged_crams/7672STDY14727349_merged.cram"
      ]
    },
    {
      "cell_type": "markdown",
      "id": "66da04dc",
      "metadata": {
        "id": "66da04dc"
      },
      "source": [
        "\n",
        "N.B. For the curious reading this command, I often use `\\` characters at the ends of lines of bash code to put line breaks into my commands and make them easier for you to read."
      ]
    },
    {
      "cell_type": "markdown",
      "id": "cbaca890",
      "metadata": {
        "id": "cbaca890"
      },
      "source": [
        "## Recap\n",
        "\n",
        "The command we just ran specifies the input files we want to use for counting and that we would like to use 4 compute cores to processs the reads in parallel.\n",
        "\n",
        "I've also included two optional arguments in the command:\n",
        "`--count-mm-reads` and `--sort-mm-read-counts`. These tell the tool to:\n",
        "\n",
        "- Tally sequences in the sample which don't match our expected CRISPR library\n",
        "- Find the most abundant sequences which don't match expected CRISPR library\n",
        "\n",
        "Performing these steps can be really helpful for troubleshooting what's wrong with a library when you get no matches. For example, maybe there's an extra `G` appended to all our sequences that is preventing exact matching of reads to guides from working.\n",
        "\n",
        "\n",
        "\n",
        "## Running jobs on the Farm\n",
        "\n",
        "You might remember from the farm course that the farm relies on an LSF (load sharing facility) system to organise computational tasks. Outside of notebooks like this one, you might need to find you need to run tasks like this one within a `bsub` statement - so I thought I'd include an example of this here.\n",
        "\n",
        "As a refresher from the farm course, bsub commands require you to specify how many 'compute nodes' you'd like a task to run on, how much memory the job you'd like to run will need and where you'd like any messages the tool generates to be stored\n",
        "\n",
        "Here is an example translation of our prior counting command into a bsub job:"
      ]
    },
    {
      "cell_type": "code",
      "execution_count": null,
      "id": "9d5c13cd-13fc-4e25-a8b2-9b64833a7027",
      "metadata": {
        "id": "9d5c13cd-13fc-4e25-a8b2-9b64833a7027"
      },
      "outputs": [],
      "source": [
        "mkdir output_dir\n",
        "\n",
        "bsub -q normal \\\n",
        "-o test%J.o \\\n",
        "-e test%J.err \\\n",
        "-n 4 \\\n",
        "-M 20GB \\\n",
        "-R \"select[mem>20GB] rusage[mem=20GB] span[hosts=1]\" \\\n",
        "\"crispr-lib-matching \\\n",
        "-o output_dir \\\n",
        "-l libraries \\\n",
        "experiment.yaml \\\n",
        "--count-mm-reads \\\n",
        "--sort-mm-read-counts \\\n",
        "-r /lustre/scratch124/casm/team113/secure-lustre/resources/dermatlas/GRCh38_full_analysis_set_plus_decoy_hla.fa \\\n",
        "-c 4 \\\n",
        "test/merged_crams/7672STDY14727349_merged.cram;\""
      ]
    },
    {
      "cell_type": "markdown",
      "id": "439e8d3e",
      "metadata": {
        "id": "439e8d3e"
      },
      "source": [
        "In english - this roughly translates to:\n",
        "\n",
        "- `bsub`: Submit a job to the LSF queue.\n",
        "- `-q normal`: Specify the queue named \"normal\" for the job.\n",
        "- `-o test%J.o`: Direct the standard output of the job to a file named \"test\" followed by the job ID and the extension \".o\".\n",
        "- `-e test%J.err`: Direct the standard error of the job to a file named \"test\" followed by the job ID and the extension \".err\".\n",
        "- `-n 4`: Request 4 CPU cores for the job.\n",
        "- `-M 20GB`: Set the memory limit for the job to 20 GB.\n",
        "- `-R \"select[mem>20GB] rusage[mem=20GB] span[hosts=1]\"`: Specify the resource requirements for the job:\n",
        "  - `select[mem>20GB]`: Select only hosts with more than 20 GB of memory available.\n",
        "  - `rusage[mem=20GB]`: Specify that the job will use 20 GB of memory.\n",
        "  - `span[hosts=1]`: Ensure that all requested CPU cores are allocated on the same host.\n",
        "\n",
        "In summary, this command submits a job to the \"normal\" queue, requests 4 CPU cores and 20 GB of memory on a single host, and directs the standard output and error to appropriately named files.\n"
      ]
    },
    {
      "cell_type": "markdown",
      "id": "738f959a",
      "metadata": {
        "id": "738f959a"
      },
      "source": [
        "The job will take a little while to complete - whilst you're waiting you you might want check its status using the `bjobs` command in a terminal session."
      ]
    },
    {
      "cell_type": "markdown",
      "id": "88bf3591",
      "metadata": {
        "id": "88bf3591"
      },
      "source": [
        "## Output files\n",
        "\n",
        "Once the CRISPR counting tool has finished, it will populate the output directory you specified with several statistic and results files.\n",
        "\n",
        "\n",
        "### Guide counts\n",
        "Probably the most important of these from your perspective is the `lib.0.counts.tsv` file. This file should contain guide sequences and the number of times they were observed within the sample. We can inspect the first few lines of this file with:"
      ]
    },
    {
      "cell_type": "code",
      "execution_count": null,
      "id": "2eeed952",
      "metadata": {
        "vscode": {
          "languageId": "plaintext"
        },
        "id": "2eeed952"
      },
      "outputs": [],
      "source": [
        "head output_dir/lib.0.counts.tsv"
      ]
    },
    {
      "cell_type": "markdown",
      "id": "4614dfc4",
      "metadata": {
        "id": "4614dfc4"
      },
      "source": [
        "\n",
        "### Mismatch counts\n",
        "Because we ran the tool with the `--count-mm-reads`\n",
        "and `--sort-mm-read-counts` options enabled, you should also have a `mm.read.counts.tsv` containing \"unexpected\" sequences observed in the sample. These could be contaminants or near matches to guides due to sequencing errors. What is the most abundant of the unexpected seqeunces? Take a look with:"
      ]
    },
    {
      "cell_type": "code",
      "execution_count": null,
      "id": "c012b3c6",
      "metadata": {
        "vscode": {
          "languageId": "plaintext"
        },
        "id": "c012b3c6"
      },
      "outputs": [],
      "source": [
        "head output_dir/mm.read.counts.tsv\n"
      ]
    },
    {
      "cell_type": "markdown",
      "id": "c55d97e9",
      "metadata": {
        "id": "c55d97e9"
      },
      "source": [
        "## Summary files\n",
        "The `libstats.json` and other json files in your results directory should give a convenient high-level overviews of the sample. This will report the number of reads in the sample; the number of guides that were missing in a sample; the average counts per guide and how even the composition of the library is (Gini coefficient)."
      ]
    },
    {
      "cell_type": "code",
      "execution_count": null,
      "id": "4aa9d9ac-d29b-4662-b561-45f6bb5bad24",
      "metadata": {
        "tags": [],
        "id": "4aa9d9ac-d29b-4662-b561-45f6bb5bad24"
      },
      "outputs": [],
      "source": [
        "cat output_dir/lib.0.stats.json"
      ]
    },
    {
      "cell_type": "markdown",
      "id": "4daa7843",
      "metadata": {
        "id": "4daa7843"
      },
      "source": [
        "## Running counting across an entire experiment\n",
        "\n"
      ]
    },
    {
      "cell_type": "markdown",
      "id": "0afa931c",
      "metadata": {
        "id": "0afa931c"
      },
      "source": [
        "**WORK IN PROGRESS** TOFIX shortly\n",
        "\n",
        "Whilst helpful, the above commands only allow you to process one guide at a time. Since your experiment might involve a large number of samples I can imagine a multiplexed way of handling samples might be helpful.\n",
        "\n",
        "There are a number of ways you could handle multiple sample processing. For instance, you could write a for-loop to process samples in series.\n",
        "\n",
        " To make your life a bit easier though, I've built a demo nextflow pipeline that will run counting on all files within a directory for you.\n",
        "\n"
      ]
    },
    {
      "cell_type": "code",
      "execution_count": null,
      "id": "7e420c66",
      "metadata": {
        "vscode": {
          "languageId": "plaintext"
        },
        "id": "7e420c66"
      },
      "outputs": [],
      "source": [
        "module load nextflow\n",
        "nextflow run /lustre/scratch124/casm/team113/secure-lustre/resources/crispr/toy-crispr-pipeline/main.nf \\\n",
        "-params-file ~/crispr_project_template/crispr_pipeline_config.json \\\n",
        "-profile farm22 \\\n",
        "-c /lustre/scratch124/casm/team113/secure-lustre/resources/crispr/toy-crispr-pipeline/nextflow.config"
      ]
    }
  ],
  "metadata": {
    "kernelspec": {
      "display_name": "Bash",
      "language": "bash",
      "name": "bash"
    },
    "language_info": {
      "codemirror_mode": "shell",
      "file_extension": ".sh",
      "mimetype": "text/x-sh",
      "name": "bash"
    },
    "colab": {
      "provenance": [],
      "include_colab_link": true
    }
  },
  "nbformat": 4,
  "nbformat_minor": 5
}